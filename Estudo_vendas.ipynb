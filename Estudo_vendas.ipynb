{
    "metadata": {
        "kernelspec": {
            "name": "SQL",
            "display_name": "SQL",
            "language": "sql"
        },
        "language_info": {
            "name": "sql",
            "version": ""
        }
    },
    "nbformat_minor": 2,
    "nbformat": 4,
    "cells": [
        {
            "cell_type": "code",
            "source": [
                "select top 10 * from Vendas_d.dbo.M_vendas"
            ],
            "metadata": {
                "azdata_cell_guid": "dcdaf101-2089-4028-a29c-ec8d656dc181"
            },
            "outputs": [
                {
                    "output_type": "display_data",
                    "data": {
                        "text/html": "(10 rows affected)"
                    },
                    "metadata": {}
                },
                {
                    "output_type": "display_data",
                    "data": {
                        "text/html": "Total execution time: 00:00:00.007"
                    },
                    "metadata": {}
                },
                {
                    "output_type": "execute_result",
                    "metadata": {},
                    "execution_count": 85,
                    "data": {
                        "application/vnd.dataresource+json": {
                            "schema": {
                                "fields": [
                                    {
                                        "name": "Id_Venda"
                                    },
                                    {
                                        "name": "Data_venda"
                                    },
                                    {
                                        "name": "Custo Unitario"
                                    },
                                    {
                                        "name": "Valor"
                                    },
                                    {
                                        "name": "Quantidade"
                                    },
                                    {
                                        "name": "Custo da Venda"
                                    },
                                    {
                                        "name": "Valor_venda"
                                    },
                                    {
                                        "name": "Lucro"
                                    },
                                    {
                                        "name": "Canal"
                                    },
                                    {
                                        "name": "Promocao"
                                    },
                                    {
                                        "name": "Produto"
                                    },
                                    {
                                        "name": "Fabricante"
                                    },
                                    {
                                        "name": "Subcategoria"
                                    },
                                    {
                                        "name": "Categoria"
                                    },
                                    {
                                        "name": "Continente"
                                    },
                                    {
                                        "name": "Cidade"
                                    },
                                    {
                                        "name": "País"
                                    }
                                ]
                            },
                            "data": [
                                {
                                    "0": "16977",
                                    "1": "2013-11-15 00:00:00.000",
                                    "2": "31,3512324204815",
                                    "3": "79",
                                    "4": "13",
                                    "5": "407,56602146625954",
                                    "6": "979,6",
                                    "7": "572,0339785337405",
                                    "8": "Store",
                                    "9": "North America Holiday Promotion",
                                    "10": "Proseware Fax Machine E100 Grey",
                                    "11": "Proseware, Inc.",
                                    "12": "Printers, Scanners & Fax",
                                    "13": "Computers",
                                    "14": "North America",
                                    "15": "Snoqualmie",
                                    "16": "United States"
                                },
                                {
                                    "0": "16978",
                                    "1": "2012-01-19 00:00:00.000",
                                    "2": "108,83919734067057",
                                    "3": "129",
                                    "4": "4",
                                    "5": "435,35678936268226",
                                    "6": "490,2",
                                    "7": "54,843210637317725",
                                    "8": "Store",
                                    "9": "North America Spring Promotion",
                                    "10": "A. Datum Compact Digital Camera M200 Orange",
                                    "11": "A. Datum Corporation",
                                    "12": "Digital Cameras",
                                    "13": "Cameras and camcorders ",
                                    "14": "North America",
                                    "15": "Lafayette",
                                    "16": "United States"
                                },
                                {
                                    "0": "16981",
                                    "1": "2012-11-09 00:00:00.000",
                                    "2": "267,22292187075226",
                                    "3": "627",
                                    "4": "13",
                                    "5": "3473,8979843197794",
                                    "6": "8151",
                                    "7": "4677,102015680221",
                                    "8": "Store",
                                    "9": "North America Holiday Promotion",
                                    "10": "A. Datum SLR Camera X138 Silver Grey",
                                    "11": "A. Datum Corporation",
                                    "12": "Digital SLR Cameras",
                                    "13": "Cameras and camcorders ",
                                    "14": "North America",
                                    "15": "Wapato",
                                    "16": "United States"
                                },
                                {
                                    "0": "16983",
                                    "1": "2014-10-02 00:00:00.000",
                                    "2": "1435,0623564106982",
                                    "3": "2295",
                                    "4": "10",
                                    "5": "14350,623564106982",
                                    "6": "22950",
                                    "7": "8599,376435893018",
                                    "8": "Online",
                                    "9": "No Discount",
                                    "10": "WWI Projector 1080p LCD86 White",
                                    "11": "Wide World Importers",
                                    "12": "Projectors & Screens",
                                    "13": "Computers",
                                    "14": "Asia",
                                    "15": "Beijing",
                                    "16": "China"
                                },
                                {
                                    "0": "16984",
                                    "1": "2014-10-25 00:00:00.000",
                                    "2": "5,972623775316424",
                                    "3": "40,55",
                                    "4": "26",
                                    "5": "155,288218158227",
                                    "6": "1021,86",
                                    "7": "866,571781841773",
                                    "8": "Reseller",
                                    "9": "North America Holiday Promotion",
                                    "10": "NT Wireless Bluetooth Stereo Headphones E302 Black",
                                    "11": "Northwind Traders",
                                    "12": "Bluetooth Headphones",
                                    "13": "Audio",
                                    "14": "North America",
                                    "15": "Seattle",
                                    "16": "United States"
                                },
                                {
                                    "0": "16985",
                                    "1": "2013-08-19 00:00:00.000",
                                    "2": "189,8055193769881",
                                    "3": "251",
                                    "4": "12",
                                    "5": "2277,666232523857",
                                    "6": "2936,7",
                                    "7": "659,0337674761427",
                                    "8": "Store",
                                    "9": "North America Back-to-School Promotion",
                                    "10": "WWI Screen 106in M1609 White",
                                    "11": "Wide World Importers",
                                    "12": "Projectors & Screens",
                                    "13": "Computers",
                                    "14": "North America",
                                    "15": "Passaic",
                                    "16": "United States"
                                },
                                {
                                    "0": "16986",
                                    "1": "2013-10-14 00:00:00.000",
                                    "2": "6,69098456847259",
                                    "3": "25,5",
                                    "4": "13",
                                    "5": "86,98279939014367",
                                    "6": "320,025",
                                    "7": "233,0422006098563",
                                    "8": "Store",
                                    "9": "Asian Holiday Promotion",
                                    "10": "Contoso Home/Office Laptop Power Adapter E300 White",
                                    "11": "Contoso, Ltd",
                                    "12": "Computers Accessories",
                                    "13": "Computers",
                                    "14": "Asia",
                                    "15": "Bangkok",
                                    "16": "Thailand"
                                },
                                {
                                    "0": "16987",
                                    "1": "2014-02-13 00:00:00.000",
                                    "2": "734,2745023974604",
                                    "3": "1299",
                                    "4": "6",
                                    "5": "4405,647014384763",
                                    "6": "7703,07",
                                    "7": "3297,422985615237",
                                    "8": "Store",
                                    "9": "European Spring Promotion",
                                    "10": "Adventure Works Laptop19W X1980 Blue",
                                    "11": "Adventure Works",
                                    "12": "Laptops",
                                    "13": "Computers",
                                    "14": "Europe",
                                    "15": "Valletta",
                                    "16": "Malta"
                                },
                                {
                                    "0": "16988",
                                    "1": "2012-09-24 00:00:00.000",
                                    "2": "33,67146425556649",
                                    "3": "102",
                                    "4": "4",
                                    "5": "134,68585702226596",
                                    "6": "367,2",
                                    "7": "232,51414297773402",
                                    "8": "Store",
                                    "9": "European Holiday Promotion",
                                    "10": "Proseware Photo Ink jet Printer E290 White",
                                    "11": "Proseware, Inc.",
                                    "12": "Printers, Scanners & Fax",
                                    "13": "Computers",
                                    "14": "Europe",
                                    "15": "Madrid",
                                    "16": "Spain"
                                },
                                {
                                    "0": "16990",
                                    "1": "2013-04-18 00:00:00.000",
                                    "2": "161,7355687699162",
                                    "3": "368",
                                    "4": "10",
                                    "5": "1617,355687699162",
                                    "6": "3680",
                                    "7": "2062,644312300838",
                                    "8": "Store",
                                    "9": "No Discount",
                                    "10": "Fabrikam Laptop12 M2002 Red",
                                    "11": "Fabrikam, Inc.",
                                    "12": "Laptops",
                                    "13": "Computers",
                                    "14": "Europe",
                                    "15": "Edinburgh",
                                    "16": "United Kingdom"
                                }
                            ]
                        },
                        "text/html": [
                            "<table>",
                            "<tr><th>Id_Venda</th><th>Data_venda</th><th>Custo Unitario</th><th>Valor</th><th>Quantidade</th><th>Custo da Venda</th><th>Valor_venda</th><th>Lucro</th><th>Canal</th><th>Promocao</th><th>Produto</th><th>Fabricante</th><th>Subcategoria</th><th>Categoria</th><th>Continente</th><th>Cidade</th><th>País</th></tr>",
                            "<tr><td>16977</td><td>2013-11-15 00:00:00.000</td><td>31,3512324204815</td><td>79</td><td>13</td><td>407,56602146625954</td><td>979,6</td><td>572,0339785337405</td><td>Store</td><td>North America Holiday Promotion</td><td>Proseware Fax Machine E100 Grey</td><td>Proseware, Inc.</td><td>Printers, Scanners &amp; Fax</td><td>Computers</td><td>North America</td><td>Snoqualmie</td><td>United States</td></tr>",
                            "<tr><td>16978</td><td>2012-01-19 00:00:00.000</td><td>108,83919734067057</td><td>129</td><td>4</td><td>435,35678936268226</td><td>490,2</td><td>54,843210637317725</td><td>Store</td><td>North America Spring Promotion</td><td>A. Datum Compact Digital Camera M200 Orange</td><td>A. Datum Corporation</td><td>Digital Cameras</td><td>Cameras and camcorders </td><td>North America</td><td>Lafayette</td><td>United States</td></tr>",
                            "<tr><td>16981</td><td>2012-11-09 00:00:00.000</td><td>267,22292187075226</td><td>627</td><td>13</td><td>3473,8979843197794</td><td>8151</td><td>4677,102015680221</td><td>Store</td><td>North America Holiday Promotion</td><td>A. Datum SLR Camera X138 Silver Grey</td><td>A. Datum Corporation</td><td>Digital SLR Cameras</td><td>Cameras and camcorders </td><td>North America</td><td>Wapato</td><td>United States</td></tr>",
                            "<tr><td>16983</td><td>2014-10-02 00:00:00.000</td><td>1435,0623564106982</td><td>2295</td><td>10</td><td>14350,623564106982</td><td>22950</td><td>8599,376435893018</td><td>Online</td><td>No Discount</td><td>WWI Projector 1080p LCD86 White</td><td>Wide World Importers</td><td>Projectors &amp; Screens</td><td>Computers</td><td>Asia</td><td>Beijing</td><td>China</td></tr>",
                            "<tr><td>16984</td><td>2014-10-25 00:00:00.000</td><td>5,972623775316424</td><td>40,55</td><td>26</td><td>155,288218158227</td><td>1021,86</td><td>866,571781841773</td><td>Reseller</td><td>North America Holiday Promotion</td><td>NT Wireless Bluetooth Stereo Headphones E302 Black</td><td>Northwind Traders</td><td>Bluetooth Headphones</td><td>Audio</td><td>North America</td><td>Seattle</td><td>United States</td></tr>",
                            "<tr><td>16985</td><td>2013-08-19 00:00:00.000</td><td>189,8055193769881</td><td>251</td><td>12</td><td>2277,666232523857</td><td>2936,7</td><td>659,0337674761427</td><td>Store</td><td>North America Back-to-School Promotion</td><td>WWI Screen 106in M1609 White</td><td>Wide World Importers</td><td>Projectors &amp; Screens</td><td>Computers</td><td>North America</td><td>Passaic</td><td>United States</td></tr>",
                            "<tr><td>16986</td><td>2013-10-14 00:00:00.000</td><td>6,69098456847259</td><td>25,5</td><td>13</td><td>86,98279939014367</td><td>320,025</td><td>233,0422006098563</td><td>Store</td><td>Asian Holiday Promotion</td><td>Contoso Home/Office Laptop Power Adapter E300 White</td><td>Contoso, Ltd</td><td>Computers Accessories</td><td>Computers</td><td>Asia</td><td>Bangkok</td><td>Thailand</td></tr>",
                            "<tr><td>16987</td><td>2014-02-13 00:00:00.000</td><td>734,2745023974604</td><td>1299</td><td>6</td><td>4405,647014384763</td><td>7703,07</td><td>3297,422985615237</td><td>Store</td><td>European Spring Promotion</td><td>Adventure Works Laptop19W X1980 Blue</td><td>Adventure Works</td><td>Laptops</td><td>Computers</td><td>Europe</td><td>Valletta</td><td>Malta</td></tr>",
                            "<tr><td>16988</td><td>2012-09-24 00:00:00.000</td><td>33,67146425556649</td><td>102</td><td>4</td><td>134,68585702226596</td><td>367,2</td><td>232,51414297773402</td><td>Store</td><td>European Holiday Promotion</td><td>Proseware Photo Ink jet Printer E290 White</td><td>Proseware, Inc.</td><td>Printers, Scanners &amp; Fax</td><td>Computers</td><td>Europe</td><td>Madrid</td><td>Spain</td></tr>",
                            "<tr><td>16990</td><td>2013-04-18 00:00:00.000</td><td>161,7355687699162</td><td>368</td><td>10</td><td>1617,355687699162</td><td>3680</td><td>2062,644312300838</td><td>Store</td><td>No Discount</td><td>Fabrikam Laptop12 M2002 Red</td><td>Fabrikam, Inc.</td><td>Laptops</td><td>Computers</td><td>Europe</td><td>Edinburgh</td><td>United Kingdom</td></tr>",
                            "</table>"
                        ]
                    }
                }
            ],
            "execution_count": 85
        },
        {
            "cell_type": "markdown",
            "source": [
                ""
            ],
            "metadata": {
                "azdata_cell_guid": "6daa52d3-751c-4e04-894a-63ec70257dd9"
            }
        },
        {
            "cell_type": "markdown",
            "source": [
                "**Quantos produtos cada fabricante vendeu durante o ano de 2013?**"
            ],
            "metadata": {
                "azdata_cell_guid": "8d02eca7-e084-4a36-a963-a7eb18184573"
            }
        },
        {
            "cell_type": "code",
            "source": [
                "select Fabricante,Count(Produto) as QTD_produto\r\n",
                "from Vendas_d.dbo.M_vendas\r\n",
                "where Datepart(year,Data_venda) = 2013\r\n",
                "group by Fabricante"
            ],
            "metadata": {
                "azdata_cell_guid": "adbf2edd-d6a9-47a2-9a9c-9217bb053111"
            },
            "outputs": [
                {
                    "output_type": "display_data",
                    "data": {
                        "text/html": "(10 rows affected)"
                    },
                    "metadata": {}
                },
                {
                    "output_type": "display_data",
                    "data": {
                        "text/html": "Total execution time: 00:00:00.007"
                    },
                    "metadata": {}
                },
                {
                    "output_type": "execute_result",
                    "metadata": {},
                    "execution_count": 86,
                    "data": {
                        "application/vnd.dataresource+json": {
                            "schema": {
                                "fields": [
                                    {
                                        "name": "Fabricante"
                                    },
                                    {
                                        "name": "QTD_produto"
                                    }
                                ]
                            },
                            "data": [
                                {
                                    "0": "Contoso, Ltd",
                                    "1": "1452"
                                },
                                {
                                    "0": "Adventure Works",
                                    "1": "340"
                                },
                                {
                                    "0": "Proseware, Inc.",
                                    "1": "496"
                                },
                                {
                                    "0": "Southridge Video",
                                    "1": "465"
                                },
                                {
                                    "0": "Fabrikam, Inc.",
                                    "1": "468"
                                },
                                {
                                    "0": "Northwind Traders",
                                    "1": "78"
                                },
                                {
                                    "0": "The Phone Company",
                                    "1": "371"
                                },
                                {
                                    "0": "Wide World Importers",
                                    "1": "309"
                                },
                                {
                                    "0": "Litware, Inc.",
                                    "1": "126"
                                },
                                {
                                    "0": "A. Datum Corporation",
                                    "1": "392"
                                }
                            ]
                        },
                        "text/html": [
                            "<table>",
                            "<tr><th>Fabricante</th><th>QTD_produto</th></tr>",
                            "<tr><td>Contoso, Ltd</td><td>1452</td></tr>",
                            "<tr><td>Adventure Works</td><td>340</td></tr>",
                            "<tr><td>Proseware, Inc.</td><td>496</td></tr>",
                            "<tr><td>Southridge Video</td><td>465</td></tr>",
                            "<tr><td>Fabrikam, Inc.</td><td>468</td></tr>",
                            "<tr><td>Northwind Traders</td><td>78</td></tr>",
                            "<tr><td>The Phone Company</td><td>371</td></tr>",
                            "<tr><td>Wide World Importers</td><td>309</td></tr>",
                            "<tr><td>Litware, Inc.</td><td>126</td></tr>",
                            "<tr><td>A. Datum Corporation</td><td>392</td></tr>",
                            "</table>"
                        ]
                    }
                }
            ],
            "execution_count": 86
        },
        {
            "cell_type": "markdown",
            "source": [
                "**Quantos produtos cada fabricante vendeu durante todos os anos**"
            ],
            "metadata": {
                "azdata_cell_guid": "b6fd24a8-7c83-4798-86dd-b630527626f1"
            }
        },
        {
            "cell_type": "code",
            "source": [
                "select Fabricante,Count(Produto) as QTD_produto\r\n",
                "from Vendas_d.dbo.M_vendas\r\n",
                "group by Fabricante"
            ],
            "metadata": {
                "azdata_cell_guid": "2e391a7b-3cfa-4a80-9428-86966a722705"
            },
            "outputs": [
                {
                    "output_type": "display_data",
                    "data": {
                        "text/html": "(10 rows affected)"
                    },
                    "metadata": {}
                },
                {
                    "output_type": "display_data",
                    "data": {
                        "text/html": "Total execution time: 00:00:00.010"
                    },
                    "metadata": {}
                },
                {
                    "output_type": "execute_result",
                    "metadata": {},
                    "execution_count": 87,
                    "data": {
                        "application/vnd.dataresource+json": {
                            "schema": {
                                "fields": [
                                    {
                                        "name": "Fabricante"
                                    },
                                    {
                                        "name": "QTD_produto"
                                    }
                                ]
                            },
                            "data": [
                                {
                                    "0": "Contoso, Ltd",
                                    "1": "4891"
                                },
                                {
                                    "0": "Adventure Works",
                                    "1": "1125"
                                },
                                {
                                    "0": "Proseware, Inc.",
                                    "1": "1639"
                                },
                                {
                                    "0": "Southridge Video",
                                    "1": "1540"
                                },
                                {
                                    "0": "Fabrikam, Inc.",
                                    "1": "1605"
                                },
                                {
                                    "0": "Northwind Traders",
                                    "1": "206"
                                },
                                {
                                    "0": "The Phone Company",
                                    "1": "1314"
                                },
                                {
                                    "0": "Wide World Importers",
                                    "1": "990"
                                },
                                {
                                    "0": "Litware, Inc.",
                                    "1": "348"
                                },
                                {
                                    "0": "A. Datum Corporation",
                                    "1": "1342"
                                }
                            ]
                        },
                        "text/html": [
                            "<table>",
                            "<tr><th>Fabricante</th><th>QTD_produto</th></tr>",
                            "<tr><td>Contoso, Ltd</td><td>4891</td></tr>",
                            "<tr><td>Adventure Works</td><td>1125</td></tr>",
                            "<tr><td>Proseware, Inc.</td><td>1639</td></tr>",
                            "<tr><td>Southridge Video</td><td>1540</td></tr>",
                            "<tr><td>Fabrikam, Inc.</td><td>1605</td></tr>",
                            "<tr><td>Northwind Traders</td><td>206</td></tr>",
                            "<tr><td>The Phone Company</td><td>1314</td></tr>",
                            "<tr><td>Wide World Importers</td><td>990</td></tr>",
                            "<tr><td>Litware, Inc.</td><td>348</td></tr>",
                            "<tr><td>A. Datum Corporation</td><td>1342</td></tr>",
                            "</table>"
                        ]
                    }
                }
            ],
            "execution_count": 87
        },
        {
            "cell_type": "markdown",
            "source": [
                "**Soma das quantidades onde seja o canal Online onde seja do Continente Europe e seu valor venda seja maior ou igual**\n",
                "\n",
                "**média do valor venda**"
            ],
            "metadata": {
                "azdata_cell_guid": "c12ac5ec-46fd-47aa-b05c-fcecf3381139"
            }
        },
        {
            "cell_type": "code",
            "source": [
                "select Id_Venda,Produto,Fabricante,Continente,Valor_venda,sum(Quantidade) as Soma_qtd\n",
                "from Vendas_d.dbo.M_vendas\n",
                "where Canal = 'Online' and\n",
                "Continente = 'Europe' and\n",
                "Valor_venda>= (select floor(avg(Valor_venda)) as Media_Venda\n",
                "from Vendas_d.dbo.M_vendas)\n",
                "group by Id_Venda,Produto,Fabricante,Continente,Valor_venda\n",
                "order by Valor_venda"
            ],
            "metadata": {
                "azdata_cell_guid": "a464e1ff-6f9b-4619-9cbf-2294de5e7c66"
            },
            "outputs": [
                {
                    "output_type": "display_data",
                    "data": {
                        "text/html": "(288 rows affected)"
                    },
                    "metadata": {}
                },
                {
                    "output_type": "display_data",
                    "data": {
                        "text/html": "Total execution time: 00:00:00.015"
                    },
                    "metadata": {}
                },
                {
                    "output_type": "execute_result",
                    "metadata": {},
                    "execution_count": 88,
                    "data": {
                        "application/vnd.dataresource+json": {
                            "schema": {
                                "fields": [
                                    {
                                        "name": "Id_Venda"
                                    },
                                    {
                                        "name": "Produto"
                                    },
                                    {
                                        "name": "Fabricante"
                                    },
                                    {
                                        "name": "Continente"
                                    },
                                    {
                                        "name": "Valor_venda"
                                    },
                                    {
                                        "name": "Soma_qtd"
                                    }
                                ]
                            },
                            "data": [
                                {
                                    "0": "9883",
                                    "1": "Contoso Projector 480p M481 White",
                                    "2": "Contoso, Ltd",
                                    "3": "Europe",
                                    "4": "3692,6",
                                    "5": "8"
                                },
                                {
                                    "0": "7997",
                                    "1": "The Phone Company Smart phones Unlocked International M800 Gold",
                                    "2": "The Phone Company",
                                    "3": "Europe",
                                    "4": "3720",
                                    "5": "12"
                                },
                                {
                                    "0": "3316",
                                    "1": "Fabrikam Budget Moviemaker 1/2'' 3mm E300 White",
                                    "2": "Fabrikam, Inc.",
                                    "3": "Europe",
                                    "4": "3758,4",
                                    "5": "9"
                                },
                                {
                                    "0": "8006",
                                    "1": "Proseware Wireless Photo All-in-One Printer M390 White",
                                    "2": "Proseware, Inc.",
                                    "3": "Europe",
                                    "4": "3760",
                                    "5": "20"
                                },
                                {
                                    "0": "4596",
                                    "1": "Proseware Photo Ink Jet Printer M100 Black",
                                    "2": "Proseware, Inc.",
                                    "3": "Europe",
                                    "4": "3782,61",
                                    "5": "24"
                                },
                                {
                                    "0": "181",
                                    "1": "Contoso SLR Camera X145 Pink",
                                    "2": "Contoso, Ltd",
                                    "3": "Europe",
                                    "4": "3792",
                                    "5": "6"
                                },
                                {
                                    "0": "5927",
                                    "1": "Fabrikam Social Videographer 2/3'' 17mm E100 Grey",
                                    "2": "Fabrikam, Inc.",
                                    "3": "Europe",
                                    "4": "3795,2",
                                    "5": "24"
                                },
                                {
                                    "0": "20747",
                                    "1": "WWI Wireless Transmitter and Bluetooth Headphones X250 Blue",
                                    "2": "Wide World Importers",
                                    "3": "Europe",
                                    "4": "3799,848",
                                    "5": "16"
                                },
                                {
                                    "0": "20736",
                                    "1": "The Phone Company PDA Wifi 4.7-inch L290 White",
                                    "2": "The Phone Company",
                                    "3": "Europe",
                                    "4": "3800",
                                    "5": "10"
                                },
                                {
                                    "0": "17068",
                                    "1": "Proseware Ink Jet Instant PDF Sheet-Fed Scanner M300 Grey",
                                    "2": "Proseware, Inc.",
                                    "3": "Europe",
                                    "4": "3806,4",
                                    "5": "24"
                                },
                                {
                                    "0": "1348",
                                    "1": "Contoso Home Theater System 5.1 Channel M1500 Brown",
                                    "2": "Contoso, Ltd",
                                    "3": "Europe",
                                    "4": "3818,1",
                                    "5": "9"
                                },
                                {
                                    "0": "20143",
                                    "1": "The Phone Company PDA Handheld 3.5 inch M610 Black",
                                    "2": "The Phone Company",
                                    "3": "Europe",
                                    "4": "3825",
                                    "5": "16"
                                },
                                {
                                    "0": "6050",
                                    "1": "WWI Laptop12 M0120 White",
                                    "2": "Wide World Importers",
                                    "3": "Europe",
                                    "4": "3829,5",
                                    "5": "10"
                                },
                                {
                                    "0": "8440",
                                    "1": "Proseware Office Jet All-in-One Printer M500 Grey",
                                    "2": "Proseware, Inc.",
                                    "3": "Europe",
                                    "4": "3854,95",
                                    "5": "24"
                                },
                                {
                                    "0": "18579",
                                    "1": "The Phone Company PDA Phone 3.7 inches M340 Silver",
                                    "2": "The Phone Company",
                                    "3": "Europe",
                                    "4": "3867,6",
                                    "5": "12"
                                },
                                {
                                    "0": "8845",
                                    "1": "Fabrikam Social Videographer 1/3'' 8.5mm E200 Grey",
                                    "2": "Fabrikam, Inc.",
                                    "3": "Europe",
                                    "4": "3879,15",
                                    "5": "24"
                                },
                                {
                                    "0": "6274",
                                    "1": "Contoso Home Theater System 4.1 Channel M1410 Brown",
                                    "2": "Contoso, Ltd",
                                    "3": "Europe",
                                    "4": "3901,94",
                                    "5": "12"
                                },
                                {
                                    "0": "16878",
                                    "1": "WWI Laptop8.9 E0089 White",
                                    "2": "Wide World Importers",
                                    "3": "Europe",
                                    "4": "3912",
                                    "5": "12"
                                },
                                {
                                    "0": "3782",
                                    "1": "WWI Desktop PC1.60 E1600 Silver",
                                    "2": "Wide World Importers",
                                    "3": "Europe",
                                    "4": "3915,11",
                                    "5": "18"
                                },
                                {
                                    "0": "21841",
                                    "1": "Fabrikam SLR Camera M150 Green",
                                    "2": "Fabrikam, Inc.",
                                    "3": "Europe",
                                    "4": "3919",
                                    "5": "10"
                                },
                                {
                                    "0": "708",
                                    "1": "Fabrikam SLR Camera 35\" X358 Gold",
                                    "2": "Fabrikam, Inc.",
                                    "3": "Europe",
                                    "4": "3925,8",
                                    "5": "9"
                                },
                                {
                                    "0": "8932",
                                    "1": "Fabrikam SLR Camera 35\" M358 Gold",
                                    "2": "Fabrikam, Inc.",
                                    "3": "Europe",
                                    "4": "3936",
                                    "5": "12"
                                },
                                {
                                    "0": "16551",
                                    "1": "A. Datum Ultra Compact Digital Camera M190 Black",
                                    "2": "A. Datum Corporation",
                                    "3": "Europe",
                                    "4": "3960",
                                    "5": "24"
                                },
                                {
                                    "0": "20677",
                                    "1": "The Phone Company Finger Touch Screen Phones M30 Gold",
                                    "2": "The Phone Company",
                                    "3": "Europe",
                                    "4": "3980",
                                    "5": "20"
                                },
                                {
                                    "0": "16282",
                                    "1": "Contoso Home Theater System 5.1 Channel M1530 Silver",
                                    "2": "Contoso, Ltd",
                                    "3": "Europe",
                                    "4": "3990",
                                    "5": "10"
                                },
                                {
                                    "0": "5369",
                                    "1": "Contoso Home Theater System 5.1 Channel M1520 White",
                                    "2": "Contoso, Ltd",
                                    "3": "Europe",
                                    "4": "3996,81",
                                    "5": "12"
                                },
                                {
                                    "0": "1712",
                                    "1": "A. Datum Rangefinder Digital Camera X200 Black",
                                    "2": "A. Datum Corporation",
                                    "3": "Europe",
                                    "4": "4000",
                                    "5": "20"
                                },
                                {
                                    "0": "15348",
                                    "1": "The Phone Company Touch Screen Phones 26-1.4\" M250 Black",
                                    "2": "The Phone Company",
                                    "3": "Europe",
                                    "4": "4020",
                                    "5": "16"
                                },
                                {
                                    "0": "10677",
                                    "1": "A. Datum SLR Camera 35\" M358 Silver Grey",
                                    "2": "A. Datum Corporation",
                                    "3": "Europe",
                                    "4": "4032,34",
                                    "5": "12"
                                },
                                {
                                    "0": "14386",
                                    "1": "A. Datum SLR Camera 35\" M358 Gold",
                                    "2": "A. Datum Corporation",
                                    "3": "Europe",
                                    "4": "4056",
                                    "5": "12"
                                },
                                {
                                    "0": "20369",
                                    "1": "Contoso Home Theater System 5.1 Channel M1520 Black",
                                    "2": "Contoso, Ltd",
                                    "3": "Europe",
                                    "4": "4068",
                                    "5": "12"
                                },
                                {
                                    "0": "15617",
                                    "1": "Adventure Works 20\" CRT TV E15 White",
                                    "2": "Adventure Works",
                                    "3": "Europe",
                                    "4": "4079,76",
                                    "5": "24"
                                },
                                {
                                    "0": "4903",
                                    "1": "Contoso SLR Camera 35\" X358 Blue",
                                    "2": "Contoso, Ltd",
                                    "3": "Europe",
                                    "4": "4089,6",
                                    "5": "8"
                                },
                                {
                                    "0": "7084",
                                    "1": "Contoso Home Theater System 4.1 Channel M1400 Brown",
                                    "2": "Contoso, Ltd",
                                    "3": "Europe",
                                    "4": "4090",
                                    "5": "10"
                                },
                                {
                                    "0": "9078",
                                    "1": "Contoso Home Theater System 4.1 Channel M1420 White",
                                    "2": "Contoso, Ltd",
                                    "3": "Europe",
                                    "4": "4128",
                                    "5": "9"
                                },
                                {
                                    "0": "21085",
                                    "1": "Fabrikam Home and Vacation Moviemaker 1/2\" 3mm M300 Orange",
                                    "2": "Fabrikam, Inc.",
                                    "3": "Europe",
                                    "4": "4188,4",
                                    "5": "8"
                                },
                                {
                                    "0": "12386",
                                    "1": "Litware Home Theater System 5.1 Channel M515 Silver",
                                    "2": "Litware, Inc.",
                                    "3": "Europe",
                                    "4": "4210,6",
                                    "5": "8"
                                },
                                {
                                    "0": "19799",
                                    "1": "Fabrikam Budget Movie-Maker 1'' 25mm E400 Black",
                                    "2": "Fabrikam, Inc.",
                                    "3": "Europe",
                                    "4": "4220",
                                    "5": "10"
                                },
                                {
                                    "0": "18830",
                                    "1": "SV DVD 12-Inch Player Portable M400 Black",
                                    "2": "Southridge Video",
                                    "3": "Europe",
                                    "4": "4269,3628",
                                    "5": "24"
                                },
                                {
                                    "0": "5002",
                                    "1": "A. Datum SLR Camera X142 Orange",
                                    "2": "A. Datum Corporation",
                                    "3": "Europe",
                                    "4": "4270",
                                    "5": "10"
                                },
                                {
                                    "0": "13627",
                                    "1": "Contoso SLR Camera 35\" M358 Orange",
                                    "2": "Contoso, Ltd",
                                    "3": "Europe",
                                    "4": "4270,94",
                                    "5": "12"
                                },
                                {
                                    "0": "11912",
                                    "1": "Fabrikam SLR Camera X150 Orange",
                                    "2": "Fabrikam, Inc.",
                                    "3": "Europe",
                                    "4": "4276,45",
                                    "5": "9"
                                },
                                {
                                    "0": "456",
                                    "1": "Litware Home Theater System 5.1 Channel M516 Silver",
                                    "2": "Litware, Inc.",
                                    "3": "Europe",
                                    "4": "4284,6",
                                    "5": "8"
                                },
                                {
                                    "0": "2671",
                                    "1": "Contoso SLR Camera 35\" M358 Blue",
                                    "2": "Contoso, Ltd",
                                    "3": "Europe",
                                    "4": "4296",
                                    "5": "12"
                                },
                                {
                                    "0": "6955",
                                    "1": "The Phone Company PDA Palm 3.5 inch M810 Silver",
                                    "2": "The Phone Company",
                                    "3": "Europe",
                                    "4": "4312",
                                    "5": "16"
                                },
                                {
                                    "0": "7694",
                                    "1": "Litware Home Theater System 4.1 Channel M410 Black",
                                    "2": "Litware, Inc.",
                                    "3": "Europe",
                                    "4": "4312,8",
                                    "5": "8"
                                },
                                {
                                    "0": "21216",
                                    "1": "Adventure Works Desktop PC1.80 ED180 Black",
                                    "2": "Adventure Works",
                                    "3": "Europe",
                                    "4": "4350,51",
                                    "5": "12"
                                },
                                {
                                    "0": "7415",
                                    "1": "Fabrikam SLR Camera 35\" X358 Orange",
                                    "2": "Fabrikam, Inc.",
                                    "3": "Europe",
                                    "4": "4362",
                                    "5": "10"
                                },
                                {
                                    "0": "21925",
                                    "1": "WWI Desktop PC1.60 E1600 Black",
                                    "2": "Wide World Importers",
                                    "3": "Europe",
                                    "4": "4399",
                                    "5": "20"
                                },
                                {
                                    "0": "7460",
                                    "1": "SV Car Video LCD7 M7003 Black",
                                    "2": "Southridge Video",
                                    "3": "Europe",
                                    "4": "4402,17",
                                    "5": "12"
                                },
                                {
                                    "0": "15090",
                                    "1": "The Phone Company Pen Touch Screen Phones M320 Grey",
                                    "2": "The Phone Company",
                                    "3": "Europe",
                                    "4": "4408",
                                    "5": "16"
                                },
                                {
                                    "0": "20870",
                                    "1": "Litware Home Theater System 5.1 Channel M514 Brown",
                                    "2": "Litware, Inc.",
                                    "3": "Europe",
                                    "4": "4432,6",
                                    "5": "8"
                                },
                                {
                                    "0": "18401",
                                    "1": "A. Datum Point n' Shoot Digital Camera M500 Azure",
                                    "2": "A. Datum Corporation",
                                    "3": "Europe",
                                    "4": "4435,2",
                                    "5": "24"
                                },
                                {
                                    "0": "13540",
                                    "1": "A. Datum Bridge Digital Camera M300 Green",
                                    "2": "A. Datum Corporation",
                                    "3": "Europe",
                                    "4": "4485,6",
                                    "5": "24"
                                },
                                {
                                    "0": "8448",
                                    "1": "Fabrikam Social Videographer 1\" 25mm E400 Blue",
                                    "2": "Fabrikam, Inc.",
                                    "3": "Europe",
                                    "4": "4498,84",
                                    "5": "24"
                                },
                                {
                                    "0": "13069",
                                    "1": "Litware Home Theater System 5.1 Channel M516 Silver",
                                    "2": "Litware, Inc.",
                                    "3": "Europe",
                                    "4": "4516,2",
                                    "5": "8"
                                },
                                {
                                    "0": "14621",
                                    "1": "Contoso SLR Camera 35\" X358 Silver Grey",
                                    "2": "Contoso, Ltd",
                                    "3": "Europe",
                                    "4": "4544",
                                    "5": "8"
                                },
                                {
                                    "0": "18661",
                                    "1": "Contoso 8GB Clock & Radio MP3 Player X850 Blue",
                                    "2": "Contoso, Ltd",
                                    "3": "Europe",
                                    "4": "4548,296",
                                    "5": "16"
                                },
                                {
                                    "0": "1215",
                                    "1": "SV DVD 14-Inch Player Portable L100 Silver",
                                    "2": "Southridge Video",
                                    "3": "Europe",
                                    "4": "4549,825",
                                    "5": "18"
                                },
                                {
                                    "0": "18044",
                                    "1": "Litware Home Theater System 4.1 Channel M410 Brown",
                                    "2": "Litware, Inc.",
                                    "3": "Europe",
                                    "4": "4552,4",
                                    "5": "8"
                                },
                                {
                                    "0": "12508",
                                    "1": "The Phone Company PDA Phone 3.5 inches M320 White",
                                    "2": "The Phone Company",
                                    "3": "Europe",
                                    "4": "4604,6",
                                    "5": "16"
                                },
                                {
                                    "0": "7894",
                                    "1": "A. Datum Full Frame Digital Camera X300 Orange",
                                    "2": "A. Datum Corporation",
                                    "3": "Europe",
                                    "4": "4620",
                                    "5": "20"
                                },
                                {
                                    "0": "17023",
                                    "1": "A. Datum SLR Camera X135 Black",
                                    "2": "A. Datum Corporation",
                                    "3": "Europe",
                                    "4": "4639,8",
                                    "5": "8"
                                },
                                {
                                    "0": "20784",
                                    "1": "Contoso DVD 12-Inch Player Portable M400 White",
                                    "2": "Contoso, Ltd",
                                    "3": "Europe",
                                    "4": "4679,74",
                                    "5": "27"
                                },
                                {
                                    "0": "18053",
                                    "1": "Fabrikam SLR Camera M150 Green",
                                    "2": "Fabrikam, Inc.",
                                    "3": "Europe",
                                    "4": "4702,8",
                                    "5": "12"
                                },
                                {
                                    "0": "3710",
                                    "1": "The Phone Company PDA Phone Unlocked 4.7 inches L550 Black",
                                    "2": "The Phone Company",
                                    "3": "Europe",
                                    "4": "4711,2",
                                    "5": "16"
                                },
                                {
                                    "0": "19851",
                                    "1": "Contoso Home Theater System 5.1 Channel M1530 Brown",
                                    "2": "Contoso, Ltd",
                                    "3": "Europe",
                                    "4": "4732,14",
                                    "5": "12"
                                },
                                {
                                    "0": "20437",
                                    "1": "Contoso Home Theater System 5.1 Channel M1530 Black",
                                    "2": "Contoso, Ltd",
                                    "3": "Europe",
                                    "4": "4760,07",
                                    "5": "12"
                                },
                                {
                                    "0": "4980",
                                    "1": "Proseware Color Ink Jet Fax, Copier, Phone M250 Grey",
                                    "2": "Proseware, Inc.",
                                    "3": "Europe",
                                    "4": "4770",
                                    "5": "30"
                                },
                                {
                                    "0": "2492",
                                    "1": "Contoso DVD 9-Inch Player Portable M300 Black",
                                    "2": "Contoso, Ltd",
                                    "3": "Europe",
                                    "4": "4799,7",
                                    "5": "30"
                                },
                                {
                                    "0": "21010",
                                    "1": "Fabrikam Budget Moviemaker 1/3'' 8.5mm E200 Grey",
                                    "2": "Fabrikam, Inc.",
                                    "3": "Europe",
                                    "4": "4816,92",
                                    "5": "12"
                                },
                                {
                                    "0": "11865",
                                    "1": "Contoso SLR Camera M146 Orange",
                                    "2": "Contoso, Ltd",
                                    "3": "Europe",
                                    "4": "4830",
                                    "5": "16"
                                },
                                {
                                    "0": "416",
                                    "1": "The Phone Company Smart phones Unlocked International M800 Gold",
                                    "2": "The Phone Company",
                                    "3": "Europe",
                                    "4": "4836",
                                    "5": "16"
                                },
                                {
                                    "0": "4844",
                                    "1": "Proseware Laptop8.9 E089 White",
                                    "2": "Proseware, Inc.",
                                    "3": "Europe",
                                    "4": "4890",
                                    "5": "15"
                                },
                                {
                                    "0": "9995",
                                    "1": "Fabrikam Budget Movie-Maker 1/3'' 8.5mm E200 Black",
                                    "2": "Fabrikam, Inc.",
                                    "3": "Europe",
                                    "4": "4932",
                                    "5": "12"
                                },
                                {
                                    "0": "19983",
                                    "1": "The Phone Company Smart phones 160x160 M26 Grey",
                                    "2": "The Phone Company",
                                    "3": "Europe",
                                    "4": "4948,32",
                                    "5": "24"
                                },
                                {
                                    "0": "15259",
                                    "1": "Proseware High-Performance Business-Class Laser Fax X200 White",
                                    "2": "Proseware, Inc.",
                                    "3": "Europe",
                                    "4": "4960",
                                    "5": "20"
                                },
                                {
                                    "0": "16450",
                                    "1": "WWI Projector 480p DLP12 White",
                                    "2": "Wide World Importers",
                                    "3": "Europe",
                                    "4": "4990",
                                    "5": "10"
                                },
                                {
                                    "0": "18600",
                                    "1": "A. Datum Bridge Digital Camera M300 Azure",
                                    "2": "A. Datum Corporation",
                                    "3": "Europe",
                                    "4": "4990,23",
                                    "5": "27"
                                },
                                {
                                    "0": "7189",
                                    "1": "WWI Wireless Transmitter and Bluetooth Headphones X250 Red",
                                    "2": "Wide World Importers",
                                    "3": "Europe",
                                    "4": "4999,8",
                                    "5": "20"
                                },
                                {
                                    "0": "10110",
                                    "1": "Adventure Works 32\" LCD HDTV M130 Brown",
                                    "2": "Adventure Works",
                                    "3": "Europe",
                                    "4": "4999,9",
                                    "5": "10"
                                },
                                {
                                    "0": "12024",
                                    "1": "Proseware Laptop15 M510 Black",
                                    "2": "Proseware, Inc.",
                                    "3": "Europe",
                                    "4": "5032,8",
                                    "5": "8"
                                },
                                {
                                    "0": "12775",
                                    "1": "WWI Projector 720p LCD56 Black",
                                    "2": "Wide World Importers",
                                    "3": "Europe",
                                    "4": "5032,8",
                                    "5": "8"
                                },
                                {
                                    "0": "12410",
                                    "1": "Fabrikam Home and Vacation Moviemaker 1/3'' 8.5mm M200 White",
                                    "2": "Fabrikam, Inc.",
                                    "3": "Europe",
                                    "4": "5064",
                                    "5": "8"
                                },
                                {
                                    "0": "21587",
                                    "1": "Proseware Laptop8.9 E089 White",
                                    "2": "Proseware, Inc.",
                                    "3": "Europe",
                                    "4": "5085,6",
                                    "5": "16"
                                },
                                {
                                    "0": "2175",
                                    "1": "Fabrikam SLR Camera 35\" X358 Black",
                                    "2": "Fabrikam, Inc.",
                                    "3": "Europe",
                                    "4": "5112,264",
                                    "5": "12"
                                },
                                {
                                    "0": "734",
                                    "1": "A. Datum SLR Camera 35\" X358 Orange",
                                    "2": "A. Datum Corporation",
                                    "3": "Europe",
                                    "4": "5115,6",
                                    "5": "9"
                                },
                                {
                                    "0": "9591",
                                    "1": "Contoso Home Theater System 5.1 Channel M1500 White",
                                    "2": "Contoso, Ltd",
                                    "3": "Europe",
                                    "4": "5117,97",
                                    "5": "12"
                                },
                                {
                                    "0": "8936",
                                    "1": "A. Datum Compact Digital Camera M200 Orange",
                                    "2": "A. Datum Corporation",
                                    "3": "Europe",
                                    "4": "5160",
                                    "5": "40"
                                },
                                {
                                    "0": "14714",
                                    "1": "Adventure Works Laptop15 M1501 Silver",
                                    "2": "Adventure Works",
                                    "3": "Europe",
                                    "4": "5172,6",
                                    "5": "8"
                                },
                                {
                                    "0": "1786",
                                    "1": "Litware Home Theater System 5.1 Channel M512 Silver",
                                    "2": "Litware, Inc.",
                                    "3": "Europe",
                                    "4": "5172,6",
                                    "5": "8"
                                },
                                {
                                    "0": "6250",
                                    "1": "WWI Laptop15 M0150 Blue",
                                    "2": "Wide World Importers",
                                    "3": "Europe",
                                    "4": "5172,6",
                                    "5": "8"
                                },
                                {
                                    "0": "1646",
                                    "1": "The Phone Company Touch Screen Phone 1600 TFT-1.4\" L250 Gold",
                                    "2": "The Phone Company",
                                    "3": "Europe",
                                    "4": "5183,2",
                                    "5": "9"
                                },
                                {
                                    "0": "1634",
                                    "1": "Proseware Fax Phone E100 White",
                                    "2": "Proseware, Inc.",
                                    "3": "Europe",
                                    "4": "5220",
                                    "5": "60"
                                },
                                {
                                    "0": "12964",
                                    "1": "Contoso Home Theater System 5.1 Channel M1520 Brown",
                                    "2": "Contoso, Ltd",
                                    "3": "Europe",
                                    "4": "5220,6",
                                    "5": "16"
                                },
                                {
                                    "0": "8904",
                                    "1": "WWI Desktop PC1.60 E1600 White",
                                    "2": "Wide World Importers",
                                    "3": "Europe",
                                    "4": "5232,6105",
                                    "5": "24"
                                },
                                {
                                    "0": "5598",
                                    "1": "Adventure Works 20\" CRT TV E15 Black",
                                    "2": "Adventure Works",
                                    "3": "Europe",
                                    "4": "5235,692",
                                    "5": "32"
                                },
                                {
                                    "0": "18457",
                                    "1": "Fabrikam SLR Camera X148 Silver Grey",
                                    "2": "Fabrikam, Inc.",
                                    "3": "Europe",
                                    "4": "5256",
                                    "5": "8"
                                },
                                {
                                    "0": "9771",
                                    "1": "Fabrikam Home and Vacation Moviemaker 1\" 25mm M400 Blue",
                                    "2": "Fabrikam, Inc.",
                                    "3": "Europe",
                                    "4": "5280",
                                    "5": "9"
                                },
                                {
                                    "0": "13504",
                                    "1": "Fabrikam Laptop15 M5000 White",
                                    "2": "Fabrikam, Inc.",
                                    "3": "Europe",
                                    "4": "5312,4",
                                    "5": "8"
                                },
                                {
                                    "0": "3335",
                                    "1": "Proseware Projector 480p LCD12 Silver",
                                    "2": "Proseware, Inc.",
                                    "3": "Europe",
                                    "4": "5447,91",
                                    "5": "24"
                                },
                                {
                                    "0": "11714",
                                    "1": "Adventure Works Laptop15.4W M1548 White",
                                    "2": "Adventure Works",
                                    "3": "Europe",
                                    "4": "5457,6",
                                    "5": "8"
                                },
                                {
                                    "0": "19005",
                                    "1": "The Phone Company Smart phones 160x160 M26 Gold",
                                    "2": "The Phone Company",
                                    "3": "Europe",
                                    "4": "5470,4",
                                    "5": "27"
                                },
                                {
                                    "0": "13122",
                                    "1": "Adventure Works Desktop PC3.0 MS300 Silver",
                                    "2": "Adventure Works",
                                    "3": "Europe",
                                    "4": "5595,17",
                                    "5": "12"
                                },
                                {
                                    "0": "5828",
                                    "1": "A. Datum Bridge Digital Camera M300 Green",
                                    "2": "A. Datum Corporation",
                                    "3": "Europe",
                                    "4": "5607",
                                    "5": "30"
                                },
                                {
                                    "0": "19369",
                                    "1": "A. Datum Consumer Digital Camera E100 Silver",
                                    "2": "A. Datum Corporation",
                                    "3": "Europe",
                                    "4": "5620",
                                    "5": "20"
                                },
                                {
                                    "0": "9416",
                                    "1": "Proseware Wireless Photo All-in-One Printer M390 White",
                                    "2": "Proseware, Inc.",
                                    "3": "Europe",
                                    "4": "5640",
                                    "5": "30"
                                },
                                {
                                    "0": "19496",
                                    "1": "The Phone Company PDA Phone Unlocked 3.7 inches M510 White",
                                    "2": "The Phone Company",
                                    "3": "Europe",
                                    "4": "5645,36",
                                    "5": "24"
                                },
                                {
                                    "0": "14420",
                                    "1": "Fabrikam Home and Vacation Moviemaker 1/2'' 3mm M300 Grey",
                                    "2": "Fabrikam, Inc.",
                                    "3": "Europe",
                                    "4": "5660",
                                    "5": "10"
                                },
                                {
                                    "0": "1036",
                                    "1": "Contoso SLR Camera 35\" X358 Silver",
                                    "2": "Contoso, Ltd",
                                    "3": "Europe",
                                    "4": "5680",
                                    "5": "10"
                                },
                                {
                                    "0": "3934",
                                    "1": "Adventure Works Laptop15.4W M1548 Silver",
                                    "2": "Adventure Works",
                                    "3": "Europe",
                                    "4": "5760,8",
                                    "5": "8"
                                },
                                {
                                    "0": "13902",
                                    "1": "SV Car Video LCD7W M7080 Black",
                                    "2": "Southridge Video",
                                    "3": "Europe",
                                    "4": "5860",
                                    "5": "12"
                                },
                                {
                                    "0": "902",
                                    "1": "The Phone Company Touch Screen Phones SAW/On-wall M806 Grey",
                                    "2": "The Phone Company",
                                    "3": "Europe",
                                    "4": "5860",
                                    "5": "20"
                                },
                                {
                                    "0": "15252",
                                    "1": "A. Datum SLR Camera 35\" X358 Orange",
                                    "2": "A. Datum Corporation",
                                    "3": "Europe",
                                    "4": "5880",
                                    "5": "10"
                                },
                                {
                                    "0": "21481",
                                    "1": "A. Datum SLR Camera 35\" X358 Blue",
                                    "2": "A. Datum Corporation",
                                    "3": "Europe",
                                    "4": "5880",
                                    "5": "10"
                                },
                                {
                                    "0": "21456",
                                    "1": "Contoso Home Theater System 4.1 Channel M1400 White",
                                    "2": "Contoso, Ltd",
                                    "3": "Europe",
                                    "4": "5889,6",
                                    "5": "16"
                                },
                                {
                                    "0": "4897",
                                    "1": "Adventure Works Laptop15.4W M1548 Black",
                                    "2": "Adventure Works",
                                    "3": "Europe",
                                    "4": "5912,4",
                                    "5": "8"
                                },
                                {
                                    "0": "3260",
                                    "1": "The Phone Company PDA Handheld 4.7 inch L650 Black",
                                    "2": "The Phone Company",
                                    "3": "Europe",
                                    "4": "5912,8",
                                    "5": "16"
                                },
                                {
                                    "0": "18450",
                                    "1": "Contoso Telephoto Conversion Lens X400 White",
                                    "2": "Contoso, Ltd",
                                    "3": "Europe",
                                    "4": "5950",
                                    "5": "10"
                                },
                                {
                                    "0": "14281",
                                    "1": "WWI Projector 480p DLP12 White",
                                    "2": "Wide World Importers",
                                    "3": "Europe",
                                    "4": "5953,07",
                                    "5": "12"
                                },
                                {
                                    "0": "20200",
                                    "1": "Contoso 8GB Clock & Radio MP3 Player X850 Green",
                                    "2": "Contoso, Ltd",
                                    "3": "Europe",
                                    "4": "5984,6",
                                    "5": "20"
                                },
                                {
                                    "0": "12175",
                                    "1": "Adventure Works Laptop16 M1601 Red",
                                    "2": "Adventure Works",
                                    "3": "Europe",
                                    "4": "5990",
                                    "5": "10"
                                },
                                {
                                    "0": "2382",
                                    "1": "Fabrikam Home and Vacation Moviemaker 1\" 25mm M400 Blue",
                                    "2": "Fabrikam, Inc.",
                                    "3": "Europe",
                                    "4": "6000",
                                    "5": "10"
                                },
                                {
                                    "0": "5217",
                                    "1": "The Phone Company Smart phones Expert M400 White",
                                    "2": "The Phone Company",
                                    "3": "Europe",
                                    "4": "6000",
                                    "5": "20"
                                },
                                {
                                    "0": "12691",
                                    "1": "The Phone Company PDA Phone Unlocked 4.7 inches L550 Black",
                                    "2": "The Phone Company",
                                    "3": "Europe",
                                    "4": "6040",
                                    "5": "20"
                                },
                                {
                                    "0": "3849",
                                    "1": "The Phone Company PDA Handheld 3.5 inch M610 Black",
                                    "2": "The Phone Company",
                                    "3": "Europe",
                                    "4": "6066,45",
                                    "5": "24"
                                },
                                {
                                    "0": "203",
                                    "1": "Proseware Projector 720p LCD56 Silver",
                                    "2": "Proseware, Inc.",
                                    "3": "Europe",
                                    "4": "6081,3",
                                    "5": "9"
                                },
                                {
                                    "0": "2393",
                                    "1": "The Phone Company Touch Screen Phones 5-Wire/Built-in M500 Gold",
                                    "2": "The Phone Company",
                                    "3": "Europe",
                                    "4": "6108,16",
                                    "5": "24"
                                },
                                {
                                    "0": "21021",
                                    "1": "SV Car Video TFT6.2W E6281 Black",
                                    "2": "Southridge Video",
                                    "3": "Europe",
                                    "4": "6143,48",
                                    "5": "24"
                                },
                                {
                                    "0": "11656",
                                    "1": "SV Car Video TFT6.2W E6281 Black",
                                    "2": "Southridge Video",
                                    "3": "Europe",
                                    "4": "6161,61",
                                    "5": "24"
                                },
                                {
                                    "0": "17624",
                                    "1": "Litware Home Theater System 5.1 Channel M513 Brown",
                                    "2": "Litware, Inc.",
                                    "3": "Europe",
                                    "4": "6201",
                                    "5": "9"
                                },
                                {
                                    "0": "21818",
                                    "1": "Proseware Ink Jet Fax Machine E100 White",
                                    "2": "Proseware, Inc.",
                                    "3": "Europe",
                                    "4": "6240",
                                    "5": "80"
                                },
                                {
                                    "0": "6129",
                                    "1": "WWI Laptop15 M0150 White",
                                    "2": "Wide World Importers",
                                    "3": "Europe",
                                    "4": "6291",
                                    "5": "9"
                                },
                                {
                                    "0": "20441",
                                    "1": "Fabrikam Home and Vacation Moviemaker 1/3'' 8.5mm M200 Grey",
                                    "2": "Fabrikam, Inc.",
                                    "3": "Europe",
                                    "4": "6330",
                                    "5": "10"
                                },
                                {
                                    "0": "10156",
                                    "1": "A. Datum Interchangeable lens Non-SLR Digital Camera X250 Pink",
                                    "2": "A. Datum Corporation",
                                    "3": "Europe",
                                    "4": "6394,48",
                                    "5": "24"
                                },
                                {
                                    "0": "20085",
                                    "1": "SV Car Video TFT6.2W E6282 Black",
                                    "2": "Southridge Video",
                                    "3": "Europe",
                                    "4": "6456",
                                    "5": "24"
                                },
                                {
                                    "0": "6792",
                                    "1": "SV Car Video LCD7 M7002 Silver",
                                    "2": "Southridge Video",
                                    "3": "Europe",
                                    "4": "6457,5",
                                    "5": "18"
                                },
                                {
                                    "0": "16432",
                                    "1": "Contoso SLR Camera X143 Grey",
                                    "2": "Contoso, Ltd",
                                    "3": "Europe",
                                    "4": "6460",
                                    "5": "10"
                                },
                                {
                                    "0": "4389",
                                    "1": "Fabrikam Laptop17W M7080 Black",
                                    "2": "Fabrikam, Inc.",
                                    "3": "Europe",
                                    "4": "6511,26",
                                    "5": "8"
                                },
                                {
                                    "0": "6588",
                                    "1": "The Phone Company Touch Screen Phones 4-Wire/On-wall M302 Gold",
                                    "2": "The Phone Company",
                                    "3": "Europe",
                                    "4": "6531,4",
                                    "5": "24"
                                },
                                {
                                    "0": "4133",
                                    "1": "Fabrikam SLR Camera 35\" X358 Orange",
                                    "2": "Fabrikam, Inc.",
                                    "3": "Europe",
                                    "4": "6543",
                                    "5": "16"
                                },
                                {
                                    "0": "19837",
                                    "1": "Adventure Works Desktop PC1.80 ED180 Brown",
                                    "2": "Adventure Works",
                                    "3": "Europe",
                                    "4": "6568,2",
                                    "5": "18"
                                },
                                {
                                    "0": "2573",
                                    "1": "SV Car Video LCD9.2W X9281 Brown",
                                    "2": "Southridge Video",
                                    "3": "Europe",
                                    "4": "6604,4",
                                    "5": "8"
                                },
                                {
                                    "0": "18805",
                                    "1": "A. Datum Super-zoom Digital Camera X300 Black",
                                    "2": "A. Datum Corporation",
                                    "3": "Europe",
                                    "4": "6670",
                                    "5": "24"
                                },
                                {
                                    "0": "14408",
                                    "1": "Adventure Works 42\" LCD HDTV M55 Black",
                                    "2": "Adventure Works",
                                    "3": "Europe",
                                    "4": "6718,888",
                                    "5": "9"
                                },
                                {
                                    "0": "20858",
                                    "1": "Contoso SLR Camera 35\" X358 Black",
                                    "2": "Contoso, Ltd",
                                    "3": "Europe",
                                    "4": "6816",
                                    "5": "12"
                                },
                                {
                                    "0": "5577",
                                    "1": "WWI Desktop PC1.80 E1800 Silver",
                                    "2": "Wide World Importers",
                                    "3": "Europe",
                                    "4": "6897",
                                    "5": "30"
                                },
                                {
                                    "0": "9076",
                                    "1": "A. Datum Super-zoom Digital Camera X300 Pink",
                                    "2": "A. Datum Corporation",
                                    "3": "Europe",
                                    "4": "6960",
                                    "5": "24"
                                },
                                {
                                    "0": "19347",
                                    "1": "SV Car Video LCD7W M7082 Black",
                                    "2": "Southridge Video",
                                    "3": "Europe",
                                    "4": "6990",
                                    "5": "10"
                                },
                                {
                                    "0": "22029",
                                    "1": "A. Datum SLR Camera 35\" X358 Grey",
                                    "2": "A. Datum Corporation",
                                    "3": "Europe",
                                    "4": "7014,84",
                                    "5": "12"
                                },
                                {
                                    "0": "7222",
                                    "1": "The Phone Company Touch Screen Phones SAW/On-wall M806 Black",
                                    "2": "The Phone Company",
                                    "3": "Europe",
                                    "4": "7032",
                                    "5": "24"
                                },
                                {
                                    "0": "12448",
                                    "1": "A. Datum SLR Camera 35\" X358 Gold",
                                    "2": "A. Datum Corporation",
                                    "3": "Europe",
                                    "4": "7056",
                                    "5": "12"
                                },
                                {
                                    "0": "3805",
                                    "1": "Contoso Home Theater System 2.1 Channel E1220 Black",
                                    "2": "Contoso, Ltd",
                                    "3": "Europe",
                                    "4": "7094,35",
                                    "5": "36"
                                },
                                {
                                    "0": "14400",
                                    "1": "Litware Home Theater System 7.1 Channel M710 Silver",
                                    "2": "Litware, Inc.",
                                    "3": "Europe",
                                    "4": "7111,1",
                                    "5": "9"
                                },
                                {
                                    "0": "16042",
                                    "1": "Contoso 8GB Clock & Radio MP3 Player X850 Green",
                                    "2": "Contoso, Ltd",
                                    "3": "Europe",
                                    "4": "7181,52",
                                    "5": "24"
                                },
                                {
                                    "0": "20270",
                                    "1": "Fabrikam Trendsetter 1/3'' 8.5mm X200 Grey",
                                    "2": "Fabrikam, Inc.",
                                    "3": "Europe",
                                    "4": "7185,6",
                                    "5": "8"
                                },
                                {
                                    "0": "16087",
                                    "1": "WWI Desktop PC1.80 E1802 White",
                                    "2": "Wide World Importers",
                                    "3": "Europe",
                                    "4": "7197,6",
                                    "5": "24"
                                },
                                {
                                    "0": "12215",
                                    "1": "A. Datum Rangefinder Digital Camera X200 Silver",
                                    "2": "A. Datum Corporation",
                                    "3": "Europe",
                                    "4": "7200",
                                    "5": "36"
                                },
                                {
                                    "0": "20506",
                                    "1": "Contoso Home Theater System 4.1 Channel M1420 Black",
                                    "2": "Contoso, Ltd",
                                    "3": "Europe",
                                    "4": "7200",
                                    "5": "16"
                                },
                                {
                                    "0": "11451",
                                    "1": "The Phone Company PDA Phone Unlocked 4.7 inches L550 Black",
                                    "2": "The Phone Company",
                                    "3": "Europe",
                                    "4": "7248",
                                    "5": "24"
                                },
                                {
                                    "0": "16023",
                                    "1": "WWI Projector 480p DLP12 Black",
                                    "2": "Wide World Importers",
                                    "3": "Europe",
                                    "4": "7285,4",
                                    "5": "16"
                                },
                                {
                                    "0": "16203",
                                    "1": "The Phone Company Touch Screen Phones Capacitive M908 Grey",
                                    "2": "The Phone Company",
                                    "3": "Europe",
                                    "4": "7305,76",
                                    "5": "24"
                                },
                                {
                                    "0": "11120",
                                    "1": "Fabrikam Trendsetter 1/3'' 8.5mm X200 Black",
                                    "2": "Fabrikam, Inc.",
                                    "3": "Europe",
                                    "4": "7392,6",
                                    "5": "8"
                                },
                                {
                                    "0": "7146",
                                    "1": "Fabrikam Trendsetter 1/2'' 3mm X300 Black",
                                    "2": "Fabrikam, Inc.",
                                    "3": "Europe",
                                    "4": "7392,6",
                                    "5": "8"
                                },
                                {
                                    "0": "19689",
                                    "1": "Contoso SLR Camera X145 Blue",
                                    "2": "Contoso, Ltd",
                                    "3": "Europe",
                                    "4": "7451,28",
                                    "5": "12"
                                },
                                {
                                    "0": "626",
                                    "1": "A. Datum SLR Camera X142 Orange",
                                    "2": "A. Datum Corporation",
                                    "3": "Europe",
                                    "4": "7515,2",
                                    "5": "18"
                                },
                                {
                                    "0": "12102",
                                    "1": "Proseware Projector 720p DLP56 Silver",
                                    "2": "Proseware, Inc.",
                                    "3": "Europe",
                                    "4": "7592,4",
                                    "5": "8"
                                },
                                {
                                    "0": "18509",
                                    "1": "Proseware Projector 720p DLP56 White",
                                    "2": "Proseware, Inc.",
                                    "3": "Europe",
                                    "4": "7592,4",
                                    "5": "8"
                                },
                                {
                                    "0": "20742",
                                    "1": "Proseware Projector 720p DLP56 Silver",
                                    "2": "Proseware, Inc.",
                                    "3": "Europe",
                                    "4": "7592,4",
                                    "5": "8"
                                },
                                {
                                    "0": "1377",
                                    "1": "Adventure Works Laptop12 M1201 Red",
                                    "2": "Adventure Works",
                                    "3": "Europe",
                                    "4": "7659",
                                    "5": "20"
                                },
                                {
                                    "0": "4828",
                                    "1": "Fabrikam Laptop16W M6080 Black",
                                    "2": "Fabrikam, Inc.",
                                    "3": "Europe",
                                    "4": "7736",
                                    "5": "8"
                                },
                                {
                                    "0": "20289",
                                    "1": "Fabrikam Laptop17W M7080 Black",
                                    "2": "Fabrikam, Inc.",
                                    "3": "Europe",
                                    "4": "7743,12",
                                    "5": "9"
                                },
                                {
                                    "0": "18524",
                                    "1": "Fabrikam Trendsetter 1/2'' 3mm X300 White",
                                    "2": "Fabrikam, Inc.",
                                    "3": "Europe",
                                    "4": "7792,2",
                                    "5": "8"
                                },
                                {
                                    "0": "11179",
                                    "1": "SV Car Video LCD7W M7080 Black",
                                    "2": "Southridge Video",
                                    "3": "Europe",
                                    "4": "7800",
                                    "5": "16"
                                },
                                {
                                    "0": "19841",
                                    "1": "Fabrikam Home and Vacation Moviemaker 2/3'' 17mm M103 Grey",
                                    "2": "Fabrikam, Inc.",
                                    "3": "Europe",
                                    "4": "7814,15",
                                    "5": "12"
                                },
                                {
                                    "0": "8700",
                                    "1": "WWI Desktop PC1.60 E1600 Silver",
                                    "2": "Wide World Importers",
                                    "3": "Europe",
                                    "4": "7918,2",
                                    "5": "36"
                                },
                                {
                                    "0": "20202",
                                    "1": "Adventure Works Desktop PC1.80 ED182 White",
                                    "2": "Adventure Works",
                                    "3": "Europe",
                                    "4": "7998,4",
                                    "5": "16"
                                },
                                {
                                    "0": "17787",
                                    "1": "A. Datum SLR Camera 35\" M358 Black",
                                    "2": "A. Datum Corporation",
                                    "3": "Europe",
                                    "4": "8017,36",
                                    "5": "24"
                                },
                                {
                                    "0": "19996",
                                    "1": "A. Datum SLR Camera 35\" M358 Grey",
                                    "2": "A. Datum Corporation",
                                    "3": "Europe",
                                    "4": "8017,36",
                                    "5": "24"
                                },
                                {
                                    "0": "6294",
                                    "1": "Contoso Home Theater System 5.1 Channel M1520 White",
                                    "2": "Contoso, Ltd",
                                    "3": "Europe",
                                    "4": "8136",
                                    "5": "24"
                                },
                                {
                                    "0": "863",
                                    "1": "Contoso Projector 480p M480 White",
                                    "2": "Contoso, Ltd",
                                    "3": "Europe",
                                    "4": "8179,88",
                                    "5": "36"
                                },
                                {
                                    "0": "15053",
                                    "1": "Contoso Home Theater System 4.1 Channel M1400 White",
                                    "2": "Contoso, Ltd",
                                    "3": "Europe",
                                    "4": "8180",
                                    "5": "20"
                                },
                                {
                                    "0": "16756",
                                    "1": "WWI Laptop15 M0150 Black",
                                    "2": "Wide World Importers",
                                    "3": "Europe",
                                    "4": "8192,28",
                                    "5": "12"
                                },
                                {
                                    "0": "10526",
                                    "1": "Litware Home Theater System 5.1 Channel M512 Silver",
                                    "2": "Litware, Inc.",
                                    "3": "Europe",
                                    "4": "8241,21",
                                    "5": "12"
                                },
                                {
                                    "0": "9716",
                                    "1": "WWI Projector 480p LCD12 Silver",
                                    "2": "Wide World Importers",
                                    "3": "Europe",
                                    "4": "8244",
                                    "5": "36"
                                },
                                {
                                    "0": "1649",
                                    "1": "Adventure Works 26\" 720p LCD HDTV M140 Silver",
                                    "2": "Adventure Works",
                                    "3": "Europe",
                                    "4": "8318,469",
                                    "5": "18"
                                },
                                {
                                    "0": "18699",
                                    "1": "WWI Projector 720p DLP56 Black",
                                    "2": "Wide World Importers",
                                    "3": "Europe",
                                    "4": "8591,4",
                                    "5": "9"
                                },
                                {
                                    "0": "17150",
                                    "1": "SV Car Video LCD9.2W X9281 Black",
                                    "2": "Southridge Video",
                                    "3": "Europe",
                                    "4": "8690",
                                    "5": "10"
                                },
                                {
                                    "0": "8182",
                                    "1": "Contoso Screen 85in E085 White",
                                    "2": "Contoso, Ltd",
                                    "3": "Europe",
                                    "4": "8701,4",
                                    "5": "64"
                                },
                                {
                                    "0": "4131",
                                    "1": "Adventure Works Desktop PC1.80 ED180 Silver",
                                    "2": "Adventure Works",
                                    "3": "Europe",
                                    "4": "8708,4",
                                    "5": "24"
                                },
                                {
                                    "0": "647",
                                    "1": "WWI Desktop PC2.30 M2300 Brown",
                                    "2": "Wide World Importers",
                                    "3": "Europe",
                                    "4": "8720,4",
                                    "5": "16"
                                },
                                {
                                    "0": "13846",
                                    "1": "Adventure Works 40\" LCD HDTV M690 Brown",
                                    "2": "Adventure Works",
                                    "3": "Europe",
                                    "4": "8768,778",
                                    "5": "8"
                                },
                                {
                                    "0": "8895",
                                    "1": "The Phone Company Touch Screen Phones SAW/On-wall M806 Grey",
                                    "2": "The Phone Company",
                                    "3": "Europe",
                                    "4": "8790",
                                    "5": "30"
                                },
                                {
                                    "0": "308",
                                    "1": "WWI Desktop PC1.60 E1600 Black",
                                    "2": "Wide World Importers",
                                    "3": "Europe",
                                    "4": "8798",
                                    "5": "40"
                                },
                                {
                                    "0": "16154",
                                    "1": "A. Datum SLR Camera 35\" X358 Gold",
                                    "2": "A. Datum Corporation",
                                    "3": "Europe",
                                    "4": "8820",
                                    "5": "16"
                                },
                                {
                                    "0": "3404",
                                    "1": "Adventure Works Desktop PC1.80 ED180 Silver",
                                    "2": "Adventure Works",
                                    "3": "Europe",
                                    "4": "8830,17",
                                    "5": "24"
                                },
                                {
                                    "0": "21499",
                                    "1": "Adventure Works Laptop15.4W M1548 White",
                                    "2": "Adventure Works",
                                    "3": "Europe",
                                    "4": "8883,76",
                                    "5": "12"
                                },
                                {
                                    "0": "16427",
                                    "1": "Contoso Home Theater System 7.1 Channel M1700 White",
                                    "2": "Contoso, Ltd",
                                    "3": "Europe",
                                    "4": "8890",
                                    "5": "10"
                                },
                                {
                                    "0": "4693",
                                    "1": "Contoso Home Theater System 7.1 Channel M1700 Silver",
                                    "2": "Contoso, Ltd",
                                    "3": "Europe",
                                    "4": "8890",
                                    "5": "10"
                                },
                                {
                                    "0": "20360",
                                    "1": "Contoso Projector 480p M481 White",
                                    "2": "Contoso, Ltd",
                                    "3": "Europe",
                                    "4": "8932,1",
                                    "5": "18"
                                },
                                {
                                    "0": "5628",
                                    "1": "Adventure Works Laptop12 M1201 Red",
                                    "2": "Adventure Works",
                                    "3": "Europe",
                                    "4": "9137,187",
                                    "5": "24"
                                },
                                {
                                    "0": "16250",
                                    "1": "WWI Laptop16 M0160 Black",
                                    "2": "Wide World Importers",
                                    "3": "Europe",
                                    "4": "9224,6",
                                    "5": "16"
                                },
                                {
                                    "0": "11582",
                                    "1": "Fabrikam Independent Filmmaker 1/3'' 8.5mm X200 Grey",
                                    "2": "Fabrikam, Inc.",
                                    "3": "Europe",
                                    "4": "9250,8",
                                    "5": "6"
                                },
                                {
                                    "0": "12972",
                                    "1": "Proseware Laptop16 M610 White",
                                    "2": "Proseware, Inc.",
                                    "3": "Europe",
                                    "4": "9464,2",
                                    "5": "16"
                                },
                                {
                                    "0": "15249",
                                    "1": "The Phone Company PDA Palm 4.7 inch L850 Black",
                                    "2": "The Phone Company",
                                    "3": "Europe",
                                    "4": "9552",
                                    "5": "24"
                                },
                                {
                                    "0": "8138",
                                    "1": "Fabrikam Budget Moviemaker 1/2'' 3mm E300 Black",
                                    "2": "Fabrikam, Inc.",
                                    "3": "Europe",
                                    "4": "9640",
                                    "5": "20"
                                },
                                {
                                    "0": "1950",
                                    "1": "Contoso SLR Camera M142 Black",
                                    "2": "Contoso, Ltd",
                                    "3": "Europe",
                                    "4": "9671,2",
                                    "5": "32"
                                },
                                {
                                    "0": "1875",
                                    "1": "Adventure Works Desktop PC2.33 XD233 Silver",
                                    "2": "Adventure Works",
                                    "3": "Europe",
                                    "4": "9690",
                                    "5": "10"
                                },
                                {
                                    "0": "19230",
                                    "1": "SV Car Video LCD7W M7081 Black",
                                    "2": "Southridge Video",
                                    "3": "Europe",
                                    "4": "9980",
                                    "5": "20"
                                },
                                {
                                    "0": "10076",
                                    "1": "Fabrikam Trendsetter 1/2'' 3mm X300 Black",
                                    "2": "Fabrikam, Inc.",
                                    "3": "Europe",
                                    "4": "9990",
                                    "5": "10"
                                },
                                {
                                    "0": "9043",
                                    "1": "Contoso Projector 720p M621 Silver",
                                    "2": "Contoso, Ltd",
                                    "3": "Europe",
                                    "4": "9990",
                                    "5": "10"
                                },
                                {
                                    "0": "12650",
                                    "1": "Proseware LCD22W M2001 Black",
                                    "2": "Proseware, Inc.",
                                    "3": "Europe",
                                    "4": "10049,2",
                                    "5": "16"
                                },
                                {
                                    "0": "9246",
                                    "1": "Fabrikam SLR Camera X146 Black",
                                    "2": "Fabrikam, Inc.",
                                    "3": "Europe",
                                    "4": "10064",
                                    "5": "16"
                                },
                                {
                                    "0": "17279",
                                    "1": "A. Datum Consumer Digital Camera E100 Black",
                                    "2": "A. Datum Corporation",
                                    "3": "Europe",
                                    "4": "10116",
                                    "5": "36"
                                },
                                {
                                    "0": "20647",
                                    "1": "Litware Home Theater System 5.1 Channel M513 Black",
                                    "2": "Litware, Inc.",
                                    "3": "Europe",
                                    "4": "10197,2",
                                    "5": "16"
                                },
                                {
                                    "0": "5",
                                    "1": "Fabrikam SLR Camera 35\" X358 Blue",
                                    "2": "Fabrikam, Inc.",
                                    "3": "Europe",
                                    "4": "10207,08",
                                    "5": "24"
                                },
                                {
                                    "0": "15488",
                                    "1": "Fabrikam Business Videographer 1/3'' 8.5mm M380 White",
                                    "2": "Fabrikam, Inc.",
                                    "3": "Europe",
                                    "4": "10272",
                                    "5": "12"
                                },
                                {
                                    "0": "19188",
                                    "1": "Fabrikam SLR Camera 35\" X358 Silver Grey",
                                    "2": "Fabrikam, Inc.",
                                    "3": "Europe",
                                    "4": "10346,664",
                                    "5": "24"
                                },
                                {
                                    "0": "20411",
                                    "1": "Adventure Works LCD24W X300 White",
                                    "2": "Adventure Works",
                                    "3": "Europe",
                                    "4": "10428",
                                    "5": "12"
                                },
                                {
                                    "0": "5852",
                                    "1": "WWI Projector 720p LCD56 Silver",
                                    "2": "Wide World Importers",
                                    "3": "Europe",
                                    "4": "10485",
                                    "5": "16"
                                },
                                {
                                    "0": "15674",
                                    "1": "The Phone Company Touch Screen Phones SAW/On-wall M806 Gold",
                                    "2": "The Phone Company",
                                    "3": "Europe",
                                    "4": "10548",
                                    "5": "36"
                                },
                                {
                                    "0": "11239",
                                    "1": "Adventure Works Laptop16 M1601 Blue",
                                    "2": "Adventure Works",
                                    "3": "Europe",
                                    "4": "10602,3",
                                    "5": "18"
                                },
                                {
                                    "0": "12621",
                                    "1": "Adventure Works Laptop15 M1500 Black",
                                    "2": "Adventure Works",
                                    "3": "Europe",
                                    "4": "10624,8",
                                    "5": "16"
                                },
                                {
                                    "0": "9553",
                                    "1": "The Phone Company Touch Screen Phones Infrared M901 Black",
                                    "2": "The Phone Company",
                                    "3": "Europe",
                                    "4": "10740",
                                    "5": "36"
                                },
                                {
                                    "0": "21959",
                                    "1": "WWI Desktop PC1.80 E1802 White",
                                    "2": "Wide World Importers",
                                    "3": "Europe",
                                    "4": "10766,41",
                                    "5": "36"
                                },
                                {
                                    "0": "21612",
                                    "1": "Adventure Works Desktop PC1.60 ED160 White",
                                    "2": "Adventure Works",
                                    "3": "Europe",
                                    "4": "10798",
                                    "5": "40"
                                },
                                {
                                    "0": "5854",
                                    "1": "Adventure Works Desktop PC1.80 ED182 Black",
                                    "2": "Adventure Works",
                                    "3": "Europe",
                                    "4": "11697,66",
                                    "5": "24"
                                },
                                {
                                    "0": "9882",
                                    "1": "Proseware Projector 720p DLP56 Silver",
                                    "2": "Proseware, Inc.",
                                    "3": "Europe",
                                    "4": "11848,14",
                                    "5": "12"
                                },
                                {
                                    "0": "1870",
                                    "1": "WWI Projector 720p DLP56 White",
                                    "2": "Wide World Importers",
                                    "3": "Europe",
                                    "4": "11918,07",
                                    "5": "12"
                                },
                                {
                                    "0": "13563",
                                    "1": "Adventure Works Laptop16 M1601 White",
                                    "2": "Adventure Works",
                                    "3": "Europe",
                                    "4": "11980",
                                    "5": "20"
                                },
                                {
                                    "0": "21822",
                                    "1": "Contoso Projector 720p M621 White",
                                    "2": "Contoso, Ltd",
                                    "3": "Europe",
                                    "4": "11988",
                                    "5": "12"
                                },
                                {
                                    "0": "7134",
                                    "1": "Adventure Works Desktop PC1.80 ED182 Black",
                                    "2": "Adventure Works",
                                    "3": "Europe",
                                    "4": "11997,6",
                                    "5": "24"
                                },
                                {
                                    "0": "18883",
                                    "1": "Litware Home Theater System 5.1 Channel M511 Brown",
                                    "2": "Litware, Inc.",
                                    "3": "Europe",
                                    "4": "12022,8",
                                    "5": "18"
                                },
                                {
                                    "0": "7331",
                                    "1": "WWI LCD24 X300 Black",
                                    "2": "Wide World Importers",
                                    "3": "Europe",
                                    "4": "12121,2",
                                    "5": "16"
                                },
                                {
                                    "0": "375",
                                    "1": "Contoso Projector 720p M620 White",
                                    "2": "Contoso, Ltd",
                                    "3": "Europe",
                                    "4": "12162,6",
                                    "5": "18"
                                },
                                {
                                    "0": "14653",
                                    "1": "Contoso Projector 720p M620 Silver",
                                    "2": "Contoso, Ltd",
                                    "3": "Europe",
                                    "4": "12232,5",
                                    "5": "18"
                                },
                                {
                                    "0": "8067",
                                    "1": "A. Datum SLR Camera M139 Gold",
                                    "2": "A. Datum Corporation",
                                    "3": "Europe",
                                    "4": "12480",
                                    "5": "40"
                                },
                                {
                                    "0": "17923",
                                    "1": "Litware Home Theater System 5.1 Channel M510 Black",
                                    "2": "Litware, Inc.",
                                    "3": "Europe",
                                    "4": "12780",
                                    "5": "20"
                                },
                                {
                                    "0": "21498",
                                    "1": "WWI Desktop PC1.80 E1801 Brown",
                                    "2": "Wide World Importers",
                                    "3": "Europe",
                                    "4": "12879,628",
                                    "5": "48"
                                },
                                {
                                    "0": "18843",
                                    "1": "SV Car Video TFT6.2W E6282 Black",
                                    "2": "Southridge Video",
                                    "3": "Europe",
                                    "4": "12893,17",
                                    "5": "48"
                                },
                                {
                                    "0": "18330",
                                    "1": "Fabrikam Business Videographer 2/3'' 17mm M280 Black",
                                    "2": "Fabrikam, Inc.",
                                    "3": "Europe",
                                    "4": "12920",
                                    "5": "16"
                                },
                                {
                                    "0": "20515",
                                    "1": "WWI Laptop19W X0196 White",
                                    "2": "Wide World Importers",
                                    "3": "Europe",
                                    "4": "12990",
                                    "5": "10"
                                },
                                {
                                    "0": "1955",
                                    "1": "Adventure Works Desktop PC1.80 ED180 White",
                                    "2": "Adventure Works",
                                    "3": "Europe",
                                    "4": "13284",
                                    "5": "36"
                                },
                                {
                                    "0": "8237",
                                    "1": "Adventure Works 42\" LCD HDTV M55 Black",
                                    "2": "Adventure Works",
                                    "3": "Europe",
                                    "4": "13437,776",
                                    "5": "18"
                                },
                                {
                                    "0": "20345",
                                    "1": "Fabrikam Independent Filmmaker 1/3\" 8.5mm X200 Blue",
                                    "2": "Fabrikam, Inc.",
                                    "3": "Europe",
                                    "4": "13464",
                                    "5": "9"
                                },
                                {
                                    "0": "17077",
                                    "1": "Contoso SLR Camera 35\" X358 Silver Grey",
                                    "2": "Contoso, Ltd",
                                    "3": "Europe",
                                    "4": "13592,24",
                                    "5": "24"
                                },
                                {
                                    "0": "14729",
                                    "1": "Litware Home Theater System 5.1 Channel M513 Brown",
                                    "2": "Litware, Inc.",
                                    "3": "Europe",
                                    "4": "13780",
                                    "5": "20"
                                },
                                {
                                    "0": "19458",
                                    "1": "Adventure Works Laptop15 M1501 Red",
                                    "2": "Adventure Works",
                                    "3": "Europe",
                                    "4": "13980",
                                    "5": "20"
                                },
                                {
                                    "0": "15127",
                                    "1": "Adventure Works 40\" LCD HDTV M690 Brown",
                                    "2": "Adventure Works",
                                    "3": "Europe",
                                    "4": "14136,6921",
                                    "5": "12"
                                },
                                {
                                    "0": "20897",
                                    "1": "Fabrikam Independent Filmmaker 1/2'' 3mm X300 Grey",
                                    "2": "Fabrikam, Inc.",
                                    "3": "Europe",
                                    "4": "14220",
                                    "5": "9"
                                },
                                {
                                    "0": "14210",
                                    "1": "A. Datum SLR Camera X138 Silver Grey",
                                    "2": "A. Datum Corporation",
                                    "3": "Europe",
                                    "4": "14421",
                                    "5": "24"
                                },
                                {
                                    "0": "5298",
                                    "1": "Fabrikam Trendsetter 1/2'' 3mm X300 Grey",
                                    "2": "Fabrikam, Inc.",
                                    "3": "Europe",
                                    "4": "14585,4",
                                    "5": "16"
                                },
                                {
                                    "0": "6072",
                                    "1": "WWI LCD22 M2002 Black",
                                    "2": "Wide World Importers",
                                    "3": "Europe",
                                    "4": "14856",
                                    "5": "24"
                                },
                                {
                                    "0": "9025",
                                    "1": "A. Datum SLR Camera X140 Pink",
                                    "2": "A. Datum Corporation",
                                    "3": "Europe",
                                    "4": "14872,44",
                                    "5": "24"
                                },
                                {
                                    "0": "20084",
                                    "1": "WWI Projector 720p DLP56 Silver",
                                    "2": "Wide World Importers",
                                    "3": "Europe",
                                    "4": "15184,8",
                                    "5": "16"
                                },
                                {
                                    "0": "6284",
                                    "1": "Adventure Works LCD24W X300 White",
                                    "2": "Adventure Works",
                                    "3": "Europe",
                                    "4": "15207,5",
                                    "5": "18"
                                },
                                {
                                    "0": "12617",
                                    "1": "Proseware LCD24W X300 White",
                                    "2": "Proseware, Inc.",
                                    "3": "Europe",
                                    "4": "15468,2",
                                    "5": "18"
                                },
                                {
                                    "0": "16699",
                                    "1": "Adventure Works 52\" LCD HDTV X790W Brown",
                                    "2": "Adventure Works",
                                    "3": "Europe",
                                    "4": "15922",
                                    "5": "10"
                                },
                                {
                                    "0": "13608",
                                    "1": "Adventure Works Laptop15 M1501 White",
                                    "2": "Adventure Works",
                                    "3": "Europe",
                                    "4": "15937,2",
                                    "5": "24"
                                },
                                {
                                    "0": "2204",
                                    "1": "Contoso Projector 720p M620 White",
                                    "2": "Contoso, Ltd",
                                    "3": "Europe",
                                    "4": "15937,2",
                                    "5": "24"
                                },
                                {
                                    "0": "7287",
                                    "1": "Adventure Works Laptop15 M1500 Black",
                                    "2": "Adventure Works",
                                    "3": "Europe",
                                    "4": "15937,2",
                                    "5": "24"
                                },
                                {
                                    "0": "13253",
                                    "1": "Adventure Works 20\" Analog CRT TV E45 Black",
                                    "2": "Adventure Works",
                                    "3": "Europe",
                                    "4": "16000",
                                    "5": "80"
                                },
                                {
                                    "0": "6505",
                                    "1": "The Phone Company PDA Phone 4.7 inches L360 Black",
                                    "2": "The Phone Company",
                                    "3": "Europe",
                                    "4": "16080",
                                    "5": "40"
                                },
                                {
                                    "0": "8584",
                                    "1": "WWI LCD22W M2003 White",
                                    "2": "Wide World Importers",
                                    "3": "Europe",
                                    "4": "16296",
                                    "5": "24"
                                },
                                {
                                    "0": "7320",
                                    "1": "Litware Home Theater System 5.1 Channel M513 Brown",
                                    "2": "Litware, Inc.",
                                    "3": "Europe",
                                    "4": "16536",
                                    "5": "24"
                                },
                                {
                                    "0": "5016",
                                    "1": "Fabrikam Home and Vacation Moviemaker 1/3'' 8.5mm M200 White",
                                    "2": "Fabrikam, Inc.",
                                    "3": "Europe",
                                    "4": "16837,8",
                                    "5": "27"
                                },
                                {
                                    "0": "7541",
                                    "1": "Fabrikam Business Videographer 1/3'' 8.5mm M380 Black",
                                    "2": "Fabrikam, Inc.",
                                    "3": "Europe",
                                    "4": "17200",
                                    "5": "20"
                                },
                                {
                                    "0": "3111",
                                    "1": "SV Car Video LCD7W M7081 Silver",
                                    "2": "Southridge Video",
                                    "3": "Europe",
                                    "4": "17684,56",
                                    "5": "36"
                                },
                                {
                                    "0": "18055",
                                    "1": "Contoso Projector 1080p X980 Silver",
                                    "2": "Contoso, Ltd",
                                    "3": "Europe",
                                    "4": "17901",
                                    "5": "8"
                                },
                                {
                                    "0": "17440",
                                    "1": "Fabrikam Independent Filmmaker 1/3\" 8.5mm X200 Blue",
                                    "2": "Fabrikam, Inc.",
                                    "3": "Europe",
                                    "4": "18360",
                                    "5": "12"
                                },
                                {
                                    "0": "8500",
                                    "1": "Fabrikam SLR Camera X147 Grey",
                                    "2": "Fabrikam, Inc.",
                                    "3": "Europe",
                                    "4": "19350",
                                    "5": "30"
                                },
                                {
                                    "0": "3873",
                                    "1": "Adventure Works Desktop PC1.80 ED180 Brown",
                                    "2": "Adventure Works",
                                    "3": "Europe",
                                    "4": "19557",
                                    "5": "54"
                                },
                                {
                                    "0": "15248",
                                    "1": "WWI Laptop19W X0196 Blue",
                                    "2": "Wide World Importers",
                                    "3": "Europe",
                                    "4": "20004,6",
                                    "5": "16"
                                },
                                {
                                    "0": "17126",
                                    "1": "Contoso Home Theater System 7.1 Channel M1700 Silver",
                                    "2": "Contoso, Ltd",
                                    "3": "Europe",
                                    "4": "21149,31",
                                    "5": "24"
                                },
                                {
                                    "0": "3554",
                                    "1": "Fabrikam Trendsetter 2/3'' 17mm X100 Black",
                                    "2": "Fabrikam, Inc.",
                                    "3": "Europe",
                                    "4": "22540",
                                    "5": "24"
                                },
                                {
                                    "0": "637",
                                    "1": "Adventure Works 52\" LCD HDTV X590 Silver",
                                    "2": "Adventure Works",
                                    "3": "Europe",
                                    "4": "22619,922",
                                    "5": "8"
                                },
                                {
                                    "0": "19083",
                                    "1": "A. Datum SLR Camera X135 Black",
                                    "2": "A. Datum Corporation",
                                    "3": "Europe",
                                    "4": "23324,4",
                                    "5": "40"
                                },
                                {
                                    "0": "4814",
                                    "1": "Fabrikam Trendsetter 1/3'' 8.5mm X200 White",
                                    "2": "Fabrikam, Inc.",
                                    "3": "Europe",
                                    "4": "23952",
                                    "5": "24"
                                },
                                {
                                    "0": "12904",
                                    "1": "Proseware Projector 1080p DLP86 White",
                                    "2": "Proseware, Inc.",
                                    "3": "Europe",
                                    "4": "24990",
                                    "5": "10"
                                },
                                {
                                    "0": "2974",
                                    "1": "WWI Laptop19W X0196 Black",
                                    "2": "Wide World Importers",
                                    "3": "Europe",
                                    "4": "25980",
                                    "5": "20"
                                },
                                {
                                    "0": "6121",
                                    "1": "Adventure Works Desktop PC1.80 ED182 Brown",
                                    "2": "Adventure Works",
                                    "3": "Europe",
                                    "4": "26794,64",
                                    "5": "54"
                                },
                                {
                                    "0": "744",
                                    "1": "Adventure Works 52\" LCD HDTV X590 White",
                                    "2": "Adventure Works",
                                    "3": "Europe",
                                    "4": "28999,9",
                                    "5": "10"
                                },
                                {
                                    "0": "14449",
                                    "1": "Proseware Projector 720p DLP56 Silver",
                                    "2": "Proseware, Inc.",
                                    "3": "Europe",
                                    "4": "29970",
                                    "5": "30"
                                },
                                {
                                    "0": "3453",
                                    "1": "Contoso Projector 720p M621 White",
                                    "2": "Contoso, Ltd",
                                    "3": "Europe",
                                    "4": "29970",
                                    "5": "30"
                                },
                                {
                                    "0": "8058",
                                    "1": "Fabrikam Laptop15.4W M5480 White",
                                    "2": "Fabrikam, Inc.",
                                    "3": "Europe",
                                    "4": "30320",
                                    "5": "40"
                                },
                                {
                                    "0": "15822",
                                    "1": "Adventure Works 52\" LCD HDTV X590 White",
                                    "2": "Adventure Works",
                                    "3": "Europe",
                                    "4": "45239,844",
                                    "5": "16"
                                },
                                {
                                    "0": "9474",
                                    "1": "WWI Projector 1080p DLP86 Silver",
                                    "2": "Wide World Importers",
                                    "3": "Europe",
                                    "4": "49980",
                                    "5": "20"
                                },
                                {
                                    "0": "3313",
                                    "1": "Contoso Projector 1080p X980 Silver",
                                    "2": "Contoso, Ltd",
                                    "3": "Europe",
                                    "4": "54276,75",
                                    "5": "24"
                                }
                            ]
                        },
                        "text/html": [
                            "<table>",
                            "<tr><th>Id_Venda</th><th>Produto</th><th>Fabricante</th><th>Continente</th><th>Valor_venda</th><th>Soma_qtd</th></tr>",
                            "<tr><td>9883</td><td>Contoso Projector 480p M481 White</td><td>Contoso, Ltd</td><td>Europe</td><td>3692,6</td><td>8</td></tr>",
                            "<tr><td>7997</td><td>The Phone Company Smart phones Unlocked International M800 Gold</td><td>The Phone Company</td><td>Europe</td><td>3720</td><td>12</td></tr>",
                            "<tr><td>3316</td><td>Fabrikam Budget Moviemaker 1/2'' 3mm E300 White</td><td>Fabrikam, Inc.</td><td>Europe</td><td>3758,4</td><td>9</td></tr>",
                            "<tr><td>8006</td><td>Proseware Wireless Photo All-in-One Printer M390 White</td><td>Proseware, Inc.</td><td>Europe</td><td>3760</td><td>20</td></tr>",
                            "<tr><td>4596</td><td>Proseware Photo Ink Jet Printer M100 Black</td><td>Proseware, Inc.</td><td>Europe</td><td>3782,61</td><td>24</td></tr>",
                            "<tr><td>181</td><td>Contoso SLR Camera X145 Pink</td><td>Contoso, Ltd</td><td>Europe</td><td>3792</td><td>6</td></tr>",
                            "<tr><td>5927</td><td>Fabrikam Social Videographer 2/3'' 17mm E100 Grey</td><td>Fabrikam, Inc.</td><td>Europe</td><td>3795,2</td><td>24</td></tr>",
                            "<tr><td>20747</td><td>WWI Wireless Transmitter and Bluetooth Headphones X250 Blue</td><td>Wide World Importers</td><td>Europe</td><td>3799,848</td><td>16</td></tr>",
                            "<tr><td>20736</td><td>The Phone Company PDA Wifi 4.7-inch L290 White</td><td>The Phone Company</td><td>Europe</td><td>3800</td><td>10</td></tr>",
                            "<tr><td>17068</td><td>Proseware Ink Jet Instant PDF Sheet-Fed Scanner M300 Grey</td><td>Proseware, Inc.</td><td>Europe</td><td>3806,4</td><td>24</td></tr>",
                            "<tr><td>1348</td><td>Contoso Home Theater System 5.1 Channel M1500 Brown</td><td>Contoso, Ltd</td><td>Europe</td><td>3818,1</td><td>9</td></tr>",
                            "<tr><td>20143</td><td>The Phone Company PDA Handheld 3.5 inch M610 Black</td><td>The Phone Company</td><td>Europe</td><td>3825</td><td>16</td></tr>",
                            "<tr><td>6050</td><td>WWI Laptop12 M0120 White</td><td>Wide World Importers</td><td>Europe</td><td>3829,5</td><td>10</td></tr>",
                            "<tr><td>8440</td><td>Proseware Office Jet All-in-One Printer M500 Grey</td><td>Proseware, Inc.</td><td>Europe</td><td>3854,95</td><td>24</td></tr>",
                            "<tr><td>18579</td><td>The Phone Company PDA Phone 3.7 inches M340 Silver</td><td>The Phone Company</td><td>Europe</td><td>3867,6</td><td>12</td></tr>",
                            "<tr><td>8845</td><td>Fabrikam Social Videographer 1/3'' 8.5mm E200 Grey</td><td>Fabrikam, Inc.</td><td>Europe</td><td>3879,15</td><td>24</td></tr>",
                            "<tr><td>6274</td><td>Contoso Home Theater System 4.1 Channel M1410 Brown</td><td>Contoso, Ltd</td><td>Europe</td><td>3901,94</td><td>12</td></tr>",
                            "<tr><td>16878</td><td>WWI Laptop8.9 E0089 White</td><td>Wide World Importers</td><td>Europe</td><td>3912</td><td>12</td></tr>",
                            "<tr><td>3782</td><td>WWI Desktop PC1.60 E1600 Silver</td><td>Wide World Importers</td><td>Europe</td><td>3915,11</td><td>18</td></tr>",
                            "<tr><td>21841</td><td>Fabrikam SLR Camera M150 Green</td><td>Fabrikam, Inc.</td><td>Europe</td><td>3919</td><td>10</td></tr>",
                            "<tr><td>708</td><td>Fabrikam SLR Camera 35&quot; X358 Gold</td><td>Fabrikam, Inc.</td><td>Europe</td><td>3925,8</td><td>9</td></tr>",
                            "<tr><td>8932</td><td>Fabrikam SLR Camera 35&quot; M358 Gold</td><td>Fabrikam, Inc.</td><td>Europe</td><td>3936</td><td>12</td></tr>",
                            "<tr><td>16551</td><td>A. Datum Ultra Compact Digital Camera M190 Black</td><td>A. Datum Corporation</td><td>Europe</td><td>3960</td><td>24</td></tr>",
                            "<tr><td>20677</td><td>The Phone Company Finger Touch Screen Phones M30 Gold</td><td>The Phone Company</td><td>Europe</td><td>3980</td><td>20</td></tr>",
                            "<tr><td>16282</td><td>Contoso Home Theater System 5.1 Channel M1530 Silver</td><td>Contoso, Ltd</td><td>Europe</td><td>3990</td><td>10</td></tr>",
                            "<tr><td>5369</td><td>Contoso Home Theater System 5.1 Channel M1520 White</td><td>Contoso, Ltd</td><td>Europe</td><td>3996,81</td><td>12</td></tr>",
                            "<tr><td>1712</td><td>A. Datum Rangefinder Digital Camera X200 Black</td><td>A. Datum Corporation</td><td>Europe</td><td>4000</td><td>20</td></tr>",
                            "<tr><td>15348</td><td>The Phone Company Touch Screen Phones 26-1.4&quot; M250 Black</td><td>The Phone Company</td><td>Europe</td><td>4020</td><td>16</td></tr>",
                            "<tr><td>10677</td><td>A. Datum SLR Camera 35&quot; M358 Silver Grey</td><td>A. Datum Corporation</td><td>Europe</td><td>4032,34</td><td>12</td></tr>",
                            "<tr><td>14386</td><td>A. Datum SLR Camera 35&quot; M358 Gold</td><td>A. Datum Corporation</td><td>Europe</td><td>4056</td><td>12</td></tr>",
                            "<tr><td>20369</td><td>Contoso Home Theater System 5.1 Channel M1520 Black</td><td>Contoso, Ltd</td><td>Europe</td><td>4068</td><td>12</td></tr>",
                            "<tr><td>15617</td><td>Adventure Works 20&quot; CRT TV E15 White</td><td>Adventure Works</td><td>Europe</td><td>4079,76</td><td>24</td></tr>",
                            "<tr><td>4903</td><td>Contoso SLR Camera 35&quot; X358 Blue</td><td>Contoso, Ltd</td><td>Europe</td><td>4089,6</td><td>8</td></tr>",
                            "<tr><td>7084</td><td>Contoso Home Theater System 4.1 Channel M1400 Brown</td><td>Contoso, Ltd</td><td>Europe</td><td>4090</td><td>10</td></tr>",
                            "<tr><td>9078</td><td>Contoso Home Theater System 4.1 Channel M1420 White</td><td>Contoso, Ltd</td><td>Europe</td><td>4128</td><td>9</td></tr>",
                            "<tr><td>21085</td><td>Fabrikam Home and Vacation Moviemaker 1/2&quot; 3mm M300 Orange</td><td>Fabrikam, Inc.</td><td>Europe</td><td>4188,4</td><td>8</td></tr>",
                            "<tr><td>12386</td><td>Litware Home Theater System 5.1 Channel M515 Silver</td><td>Litware, Inc.</td><td>Europe</td><td>4210,6</td><td>8</td></tr>",
                            "<tr><td>19799</td><td>Fabrikam Budget Movie-Maker 1'' 25mm E400 Black</td><td>Fabrikam, Inc.</td><td>Europe</td><td>4220</td><td>10</td></tr>",
                            "<tr><td>18830</td><td>SV DVD 12-Inch Player Portable M400 Black</td><td>Southridge Video</td><td>Europe</td><td>4269,3628</td><td>24</td></tr>",
                            "<tr><td>5002</td><td>A. Datum SLR Camera X142 Orange</td><td>A. Datum Corporation</td><td>Europe</td><td>4270</td><td>10</td></tr>",
                            "<tr><td>13627</td><td>Contoso SLR Camera 35&quot; M358 Orange</td><td>Contoso, Ltd</td><td>Europe</td><td>4270,94</td><td>12</td></tr>",
                            "<tr><td>11912</td><td>Fabrikam SLR Camera X150 Orange</td><td>Fabrikam, Inc.</td><td>Europe</td><td>4276,45</td><td>9</td></tr>",
                            "<tr><td>456</td><td>Litware Home Theater System 5.1 Channel M516 Silver</td><td>Litware, Inc.</td><td>Europe</td><td>4284,6</td><td>8</td></tr>",
                            "<tr><td>2671</td><td>Contoso SLR Camera 35&quot; M358 Blue</td><td>Contoso, Ltd</td><td>Europe</td><td>4296</td><td>12</td></tr>",
                            "<tr><td>6955</td><td>The Phone Company PDA Palm 3.5 inch M810 Silver</td><td>The Phone Company</td><td>Europe</td><td>4312</td><td>16</td></tr>",
                            "<tr><td>7694</td><td>Litware Home Theater System 4.1 Channel M410 Black</td><td>Litware, Inc.</td><td>Europe</td><td>4312,8</td><td>8</td></tr>",
                            "<tr><td>21216</td><td>Adventure Works Desktop PC1.80 ED180 Black</td><td>Adventure Works</td><td>Europe</td><td>4350,51</td><td>12</td></tr>",
                            "<tr><td>7415</td><td>Fabrikam SLR Camera 35&quot; X358 Orange</td><td>Fabrikam, Inc.</td><td>Europe</td><td>4362</td><td>10</td></tr>",
                            "<tr><td>21925</td><td>WWI Desktop PC1.60 E1600 Black</td><td>Wide World Importers</td><td>Europe</td><td>4399</td><td>20</td></tr>",
                            "<tr><td>7460</td><td>SV Car Video LCD7 M7003 Black</td><td>Southridge Video</td><td>Europe</td><td>4402,17</td><td>12</td></tr>",
                            "<tr><td>15090</td><td>The Phone Company Pen Touch Screen Phones M320 Grey</td><td>The Phone Company</td><td>Europe</td><td>4408</td><td>16</td></tr>",
                            "<tr><td>20870</td><td>Litware Home Theater System 5.1 Channel M514 Brown</td><td>Litware, Inc.</td><td>Europe</td><td>4432,6</td><td>8</td></tr>",
                            "<tr><td>18401</td><td>A. Datum Point n' Shoot Digital Camera M500 Azure</td><td>A. Datum Corporation</td><td>Europe</td><td>4435,2</td><td>24</td></tr>",
                            "<tr><td>13540</td><td>A. Datum Bridge Digital Camera M300 Green</td><td>A. Datum Corporation</td><td>Europe</td><td>4485,6</td><td>24</td></tr>",
                            "<tr><td>8448</td><td>Fabrikam Social Videographer 1&quot; 25mm E400 Blue</td><td>Fabrikam, Inc.</td><td>Europe</td><td>4498,84</td><td>24</td></tr>",
                            "<tr><td>13069</td><td>Litware Home Theater System 5.1 Channel M516 Silver</td><td>Litware, Inc.</td><td>Europe</td><td>4516,2</td><td>8</td></tr>",
                            "<tr><td>14621</td><td>Contoso SLR Camera 35&quot; X358 Silver Grey</td><td>Contoso, Ltd</td><td>Europe</td><td>4544</td><td>8</td></tr>",
                            "<tr><td>18661</td><td>Contoso 8GB Clock &amp; Radio MP3 Player X850 Blue</td><td>Contoso, Ltd</td><td>Europe</td><td>4548,296</td><td>16</td></tr>",
                            "<tr><td>1215</td><td>SV DVD 14-Inch Player Portable L100 Silver</td><td>Southridge Video</td><td>Europe</td><td>4549,825</td><td>18</td></tr>",
                            "<tr><td>18044</td><td>Litware Home Theater System 4.1 Channel M410 Brown</td><td>Litware, Inc.</td><td>Europe</td><td>4552,4</td><td>8</td></tr>",
                            "<tr><td>12508</td><td>The Phone Company PDA Phone 3.5 inches M320 White</td><td>The Phone Company</td><td>Europe</td><td>4604,6</td><td>16</td></tr>",
                            "<tr><td>7894</td><td>A. Datum Full Frame Digital Camera X300 Orange</td><td>A. Datum Corporation</td><td>Europe</td><td>4620</td><td>20</td></tr>",
                            "<tr><td>17023</td><td>A. Datum SLR Camera X135 Black</td><td>A. Datum Corporation</td><td>Europe</td><td>4639,8</td><td>8</td></tr>",
                            "<tr><td>20784</td><td>Contoso DVD 12-Inch Player Portable M400 White</td><td>Contoso, Ltd</td><td>Europe</td><td>4679,74</td><td>27</td></tr>",
                            "<tr><td>18053</td><td>Fabrikam SLR Camera M150 Green</td><td>Fabrikam, Inc.</td><td>Europe</td><td>4702,8</td><td>12</td></tr>",
                            "<tr><td>3710</td><td>The Phone Company PDA Phone Unlocked 4.7 inches L550 Black</td><td>The Phone Company</td><td>Europe</td><td>4711,2</td><td>16</td></tr>",
                            "<tr><td>19851</td><td>Contoso Home Theater System 5.1 Channel M1530 Brown</td><td>Contoso, Ltd</td><td>Europe</td><td>4732,14</td><td>12</td></tr>",
                            "<tr><td>20437</td><td>Contoso Home Theater System 5.1 Channel M1530 Black</td><td>Contoso, Ltd</td><td>Europe</td><td>4760,07</td><td>12</td></tr>",
                            "<tr><td>4980</td><td>Proseware Color Ink Jet Fax, Copier, Phone M250 Grey</td><td>Proseware, Inc.</td><td>Europe</td><td>4770</td><td>30</td></tr>",
                            "<tr><td>2492</td><td>Contoso DVD 9-Inch Player Portable M300 Black</td><td>Contoso, Ltd</td><td>Europe</td><td>4799,7</td><td>30</td></tr>",
                            "<tr><td>21010</td><td>Fabrikam Budget Moviemaker 1/3'' 8.5mm E200 Grey</td><td>Fabrikam, Inc.</td><td>Europe</td><td>4816,92</td><td>12</td></tr>",
                            "<tr><td>11865</td><td>Contoso SLR Camera M146 Orange</td><td>Contoso, Ltd</td><td>Europe</td><td>4830</td><td>16</td></tr>",
                            "<tr><td>416</td><td>The Phone Company Smart phones Unlocked International M800 Gold</td><td>The Phone Company</td><td>Europe</td><td>4836</td><td>16</td></tr>",
                            "<tr><td>4844</td><td>Proseware Laptop8.9 E089 White</td><td>Proseware, Inc.</td><td>Europe</td><td>4890</td><td>15</td></tr>",
                            "<tr><td>9995</td><td>Fabrikam Budget Movie-Maker 1/3'' 8.5mm E200 Black</td><td>Fabrikam, Inc.</td><td>Europe</td><td>4932</td><td>12</td></tr>",
                            "<tr><td>19983</td><td>The Phone Company Smart phones 160x160 M26 Grey</td><td>The Phone Company</td><td>Europe</td><td>4948,32</td><td>24</td></tr>",
                            "<tr><td>15259</td><td>Proseware High-Performance Business-Class Laser Fax X200 White</td><td>Proseware, Inc.</td><td>Europe</td><td>4960</td><td>20</td></tr>",
                            "<tr><td>16450</td><td>WWI Projector 480p DLP12 White</td><td>Wide World Importers</td><td>Europe</td><td>4990</td><td>10</td></tr>",
                            "<tr><td>18600</td><td>A. Datum Bridge Digital Camera M300 Azure</td><td>A. Datum Corporation</td><td>Europe</td><td>4990,23</td><td>27</td></tr>",
                            "<tr><td>7189</td><td>WWI Wireless Transmitter and Bluetooth Headphones X250 Red</td><td>Wide World Importers</td><td>Europe</td><td>4999,8</td><td>20</td></tr>",
                            "<tr><td>10110</td><td>Adventure Works 32&quot; LCD HDTV M130 Brown</td><td>Adventure Works</td><td>Europe</td><td>4999,9</td><td>10</td></tr>",
                            "<tr><td>12024</td><td>Proseware Laptop15 M510 Black</td><td>Proseware, Inc.</td><td>Europe</td><td>5032,8</td><td>8</td></tr>",
                            "<tr><td>12775</td><td>WWI Projector 720p LCD56 Black</td><td>Wide World Importers</td><td>Europe</td><td>5032,8</td><td>8</td></tr>",
                            "<tr><td>12410</td><td>Fabrikam Home and Vacation Moviemaker 1/3'' 8.5mm M200 White</td><td>Fabrikam, Inc.</td><td>Europe</td><td>5064</td><td>8</td></tr>",
                            "<tr><td>21587</td><td>Proseware Laptop8.9 E089 White</td><td>Proseware, Inc.</td><td>Europe</td><td>5085,6</td><td>16</td></tr>",
                            "<tr><td>2175</td><td>Fabrikam SLR Camera 35&quot; X358 Black</td><td>Fabrikam, Inc.</td><td>Europe</td><td>5112,264</td><td>12</td></tr>",
                            "<tr><td>734</td><td>A. Datum SLR Camera 35&quot; X358 Orange</td><td>A. Datum Corporation</td><td>Europe</td><td>5115,6</td><td>9</td></tr>",
                            "<tr><td>9591</td><td>Contoso Home Theater System 5.1 Channel M1500 White</td><td>Contoso, Ltd</td><td>Europe</td><td>5117,97</td><td>12</td></tr>",
                            "<tr><td>8936</td><td>A. Datum Compact Digital Camera M200 Orange</td><td>A. Datum Corporation</td><td>Europe</td><td>5160</td><td>40</td></tr>",
                            "<tr><td>14714</td><td>Adventure Works Laptop15 M1501 Silver</td><td>Adventure Works</td><td>Europe</td><td>5172,6</td><td>8</td></tr>",
                            "<tr><td>1786</td><td>Litware Home Theater System 5.1 Channel M512 Silver</td><td>Litware, Inc.</td><td>Europe</td><td>5172,6</td><td>8</td></tr>",
                            "<tr><td>6250</td><td>WWI Laptop15 M0150 Blue</td><td>Wide World Importers</td><td>Europe</td><td>5172,6</td><td>8</td></tr>",
                            "<tr><td>1646</td><td>The Phone Company Touch Screen Phone 1600 TFT-1.4&quot; L250 Gold</td><td>The Phone Company</td><td>Europe</td><td>5183,2</td><td>9</td></tr>",
                            "<tr><td>1634</td><td>Proseware Fax Phone E100 White</td><td>Proseware, Inc.</td><td>Europe</td><td>5220</td><td>60</td></tr>",
                            "<tr><td>12964</td><td>Contoso Home Theater System 5.1 Channel M1520 Brown</td><td>Contoso, Ltd</td><td>Europe</td><td>5220,6</td><td>16</td></tr>",
                            "<tr><td>8904</td><td>WWI Desktop PC1.60 E1600 White</td><td>Wide World Importers</td><td>Europe</td><td>5232,6105</td><td>24</td></tr>",
                            "<tr><td>5598</td><td>Adventure Works 20&quot; CRT TV E15 Black</td><td>Adventure Works</td><td>Europe</td><td>5235,692</td><td>32</td></tr>",
                            "<tr><td>18457</td><td>Fabrikam SLR Camera X148 Silver Grey</td><td>Fabrikam, Inc.</td><td>Europe</td><td>5256</td><td>8</td></tr>",
                            "<tr><td>9771</td><td>Fabrikam Home and Vacation Moviemaker 1&quot; 25mm M400 Blue</td><td>Fabrikam, Inc.</td><td>Europe</td><td>5280</td><td>9</td></tr>",
                            "<tr><td>13504</td><td>Fabrikam Laptop15 M5000 White</td><td>Fabrikam, Inc.</td><td>Europe</td><td>5312,4</td><td>8</td></tr>",
                            "<tr><td>3335</td><td>Proseware Projector 480p LCD12 Silver</td><td>Proseware, Inc.</td><td>Europe</td><td>5447,91</td><td>24</td></tr>",
                            "<tr><td>11714</td><td>Adventure Works Laptop15.4W M1548 White</td><td>Adventure Works</td><td>Europe</td><td>5457,6</td><td>8</td></tr>",
                            "<tr><td>19005</td><td>The Phone Company Smart phones 160x160 M26 Gold</td><td>The Phone Company</td><td>Europe</td><td>5470,4</td><td>27</td></tr>",
                            "<tr><td>13122</td><td>Adventure Works Desktop PC3.0 MS300 Silver</td><td>Adventure Works</td><td>Europe</td><td>5595,17</td><td>12</td></tr>",
                            "<tr><td>5828</td><td>A. Datum Bridge Digital Camera M300 Green</td><td>A. Datum Corporation</td><td>Europe</td><td>5607</td><td>30</td></tr>",
                            "<tr><td>19369</td><td>A. Datum Consumer Digital Camera E100 Silver</td><td>A. Datum Corporation</td><td>Europe</td><td>5620</td><td>20</td></tr>",
                            "<tr><td>9416</td><td>Proseware Wireless Photo All-in-One Printer M390 White</td><td>Proseware, Inc.</td><td>Europe</td><td>5640</td><td>30</td></tr>",
                            "<tr><td>19496</td><td>The Phone Company PDA Phone Unlocked 3.7 inches M510 White</td><td>The Phone Company</td><td>Europe</td><td>5645,36</td><td>24</td></tr>",
                            "<tr><td>14420</td><td>Fabrikam Home and Vacation Moviemaker 1/2'' 3mm M300 Grey</td><td>Fabrikam, Inc.</td><td>Europe</td><td>5660</td><td>10</td></tr>",
                            "<tr><td>1036</td><td>Contoso SLR Camera 35&quot; X358 Silver</td><td>Contoso, Ltd</td><td>Europe</td><td>5680</td><td>10</td></tr>",
                            "<tr><td>3934</td><td>Adventure Works Laptop15.4W M1548 Silver</td><td>Adventure Works</td><td>Europe</td><td>5760,8</td><td>8</td></tr>",
                            "<tr><td>13902</td><td>SV Car Video LCD7W M7080 Black</td><td>Southridge Video</td><td>Europe</td><td>5860</td><td>12</td></tr>",
                            "<tr><td>902</td><td>The Phone Company Touch Screen Phones SAW/On-wall M806 Grey</td><td>The Phone Company</td><td>Europe</td><td>5860</td><td>20</td></tr>",
                            "<tr><td>15252</td><td>A. Datum SLR Camera 35&quot; X358 Orange</td><td>A. Datum Corporation</td><td>Europe</td><td>5880</td><td>10</td></tr>",
                            "<tr><td>21481</td><td>A. Datum SLR Camera 35&quot; X358 Blue</td><td>A. Datum Corporation</td><td>Europe</td><td>5880</td><td>10</td></tr>",
                            "<tr><td>21456</td><td>Contoso Home Theater System 4.1 Channel M1400 White</td><td>Contoso, Ltd</td><td>Europe</td><td>5889,6</td><td>16</td></tr>",
                            "<tr><td>4897</td><td>Adventure Works Laptop15.4W M1548 Black</td><td>Adventure Works</td><td>Europe</td><td>5912,4</td><td>8</td></tr>",
                            "<tr><td>3260</td><td>The Phone Company PDA Handheld 4.7 inch L650 Black</td><td>The Phone Company</td><td>Europe</td><td>5912,8</td><td>16</td></tr>",
                            "<tr><td>18450</td><td>Contoso Telephoto Conversion Lens X400 White</td><td>Contoso, Ltd</td><td>Europe</td><td>5950</td><td>10</td></tr>",
                            "<tr><td>14281</td><td>WWI Projector 480p DLP12 White</td><td>Wide World Importers</td><td>Europe</td><td>5953,07</td><td>12</td></tr>",
                            "<tr><td>20200</td><td>Contoso 8GB Clock &amp; Radio MP3 Player X850 Green</td><td>Contoso, Ltd</td><td>Europe</td><td>5984,6</td><td>20</td></tr>",
                            "<tr><td>12175</td><td>Adventure Works Laptop16 M1601 Red</td><td>Adventure Works</td><td>Europe</td><td>5990</td><td>10</td></tr>",
                            "<tr><td>2382</td><td>Fabrikam Home and Vacation Moviemaker 1&quot; 25mm M400 Blue</td><td>Fabrikam, Inc.</td><td>Europe</td><td>6000</td><td>10</td></tr>",
                            "<tr><td>5217</td><td>The Phone Company Smart phones Expert M400 White</td><td>The Phone Company</td><td>Europe</td><td>6000</td><td>20</td></tr>",
                            "<tr><td>12691</td><td>The Phone Company PDA Phone Unlocked 4.7 inches L550 Black</td><td>The Phone Company</td><td>Europe</td><td>6040</td><td>20</td></tr>",
                            "<tr><td>3849</td><td>The Phone Company PDA Handheld 3.5 inch M610 Black</td><td>The Phone Company</td><td>Europe</td><td>6066,45</td><td>24</td></tr>",
                            "<tr><td>203</td><td>Proseware Projector 720p LCD56 Silver</td><td>Proseware, Inc.</td><td>Europe</td><td>6081,3</td><td>9</td></tr>",
                            "<tr><td>2393</td><td>The Phone Company Touch Screen Phones 5-Wire/Built-in M500 Gold</td><td>The Phone Company</td><td>Europe</td><td>6108,16</td><td>24</td></tr>",
                            "<tr><td>21021</td><td>SV Car Video TFT6.2W E6281 Black</td><td>Southridge Video</td><td>Europe</td><td>6143,48</td><td>24</td></tr>",
                            "<tr><td>11656</td><td>SV Car Video TFT6.2W E6281 Black</td><td>Southridge Video</td><td>Europe</td><td>6161,61</td><td>24</td></tr>",
                            "<tr><td>17624</td><td>Litware Home Theater System 5.1 Channel M513 Brown</td><td>Litware, Inc.</td><td>Europe</td><td>6201</td><td>9</td></tr>",
                            "<tr><td>21818</td><td>Proseware Ink Jet Fax Machine E100 White</td><td>Proseware, Inc.</td><td>Europe</td><td>6240</td><td>80</td></tr>",
                            "<tr><td>6129</td><td>WWI Laptop15 M0150 White</td><td>Wide World Importers</td><td>Europe</td><td>6291</td><td>9</td></tr>",
                            "<tr><td>20441</td><td>Fabrikam Home and Vacation Moviemaker 1/3'' 8.5mm M200 Grey</td><td>Fabrikam, Inc.</td><td>Europe</td><td>6330</td><td>10</td></tr>",
                            "<tr><td>10156</td><td>A. Datum Interchangeable lens Non-SLR Digital Camera X250 Pink</td><td>A. Datum Corporation</td><td>Europe</td><td>6394,48</td><td>24</td></tr>",
                            "<tr><td>20085</td><td>SV Car Video TFT6.2W E6282 Black</td><td>Southridge Video</td><td>Europe</td><td>6456</td><td>24</td></tr>",
                            "<tr><td>6792</td><td>SV Car Video LCD7 M7002 Silver</td><td>Southridge Video</td><td>Europe</td><td>6457,5</td><td>18</td></tr>",
                            "<tr><td>16432</td><td>Contoso SLR Camera X143 Grey</td><td>Contoso, Ltd</td><td>Europe</td><td>6460</td><td>10</td></tr>",
                            "<tr><td>4389</td><td>Fabrikam Laptop17W M7080 Black</td><td>Fabrikam, Inc.</td><td>Europe</td><td>6511,26</td><td>8</td></tr>",
                            "<tr><td>6588</td><td>The Phone Company Touch Screen Phones 4-Wire/On-wall M302 Gold</td><td>The Phone Company</td><td>Europe</td><td>6531,4</td><td>24</td></tr>",
                            "<tr><td>4133</td><td>Fabrikam SLR Camera 35&quot; X358 Orange</td><td>Fabrikam, Inc.</td><td>Europe</td><td>6543</td><td>16</td></tr>",
                            "<tr><td>19837</td><td>Adventure Works Desktop PC1.80 ED180 Brown</td><td>Adventure Works</td><td>Europe</td><td>6568,2</td><td>18</td></tr>",
                            "<tr><td>2573</td><td>SV Car Video LCD9.2W X9281 Brown</td><td>Southridge Video</td><td>Europe</td><td>6604,4</td><td>8</td></tr>",
                            "<tr><td>18805</td><td>A. Datum Super-zoom Digital Camera X300 Black</td><td>A. Datum Corporation</td><td>Europe</td><td>6670</td><td>24</td></tr>",
                            "<tr><td>14408</td><td>Adventure Works 42&quot; LCD HDTV M55 Black</td><td>Adventure Works</td><td>Europe</td><td>6718,888</td><td>9</td></tr>",
                            "<tr><td>20858</td><td>Contoso SLR Camera 35&quot; X358 Black</td><td>Contoso, Ltd</td><td>Europe</td><td>6816</td><td>12</td></tr>",
                            "<tr><td>5577</td><td>WWI Desktop PC1.80 E1800 Silver</td><td>Wide World Importers</td><td>Europe</td><td>6897</td><td>30</td></tr>",
                            "<tr><td>9076</td><td>A. Datum Super-zoom Digital Camera X300 Pink</td><td>A. Datum Corporation</td><td>Europe</td><td>6960</td><td>24</td></tr>",
                            "<tr><td>19347</td><td>SV Car Video LCD7W M7082 Black</td><td>Southridge Video</td><td>Europe</td><td>6990</td><td>10</td></tr>",
                            "<tr><td>22029</td><td>A. Datum SLR Camera 35&quot; X358 Grey</td><td>A. Datum Corporation</td><td>Europe</td><td>7014,84</td><td>12</td></tr>",
                            "<tr><td>7222</td><td>The Phone Company Touch Screen Phones SAW/On-wall M806 Black</td><td>The Phone Company</td><td>Europe</td><td>7032</td><td>24</td></tr>",
                            "<tr><td>12448</td><td>A. Datum SLR Camera 35&quot; X358 Gold</td><td>A. Datum Corporation</td><td>Europe</td><td>7056</td><td>12</td></tr>",
                            "<tr><td>3805</td><td>Contoso Home Theater System 2.1 Channel E1220 Black</td><td>Contoso, Ltd</td><td>Europe</td><td>7094,35</td><td>36</td></tr>",
                            "<tr><td>14400</td><td>Litware Home Theater System 7.1 Channel M710 Silver</td><td>Litware, Inc.</td><td>Europe</td><td>7111,1</td><td>9</td></tr>",
                            "<tr><td>16042</td><td>Contoso 8GB Clock &amp; Radio MP3 Player X850 Green</td><td>Contoso, Ltd</td><td>Europe</td><td>7181,52</td><td>24</td></tr>",
                            "<tr><td>20270</td><td>Fabrikam Trendsetter 1/3'' 8.5mm X200 Grey</td><td>Fabrikam, Inc.</td><td>Europe</td><td>7185,6</td><td>8</td></tr>",
                            "<tr><td>16087</td><td>WWI Desktop PC1.80 E1802 White</td><td>Wide World Importers</td><td>Europe</td><td>7197,6</td><td>24</td></tr>",
                            "<tr><td>12215</td><td>A. Datum Rangefinder Digital Camera X200 Silver</td><td>A. Datum Corporation</td><td>Europe</td><td>7200</td><td>36</td></tr>",
                            "<tr><td>20506</td><td>Contoso Home Theater System 4.1 Channel M1420 Black</td><td>Contoso, Ltd</td><td>Europe</td><td>7200</td><td>16</td></tr>",
                            "<tr><td>11451</td><td>The Phone Company PDA Phone Unlocked 4.7 inches L550 Black</td><td>The Phone Company</td><td>Europe</td><td>7248</td><td>24</td></tr>",
                            "<tr><td>16023</td><td>WWI Projector 480p DLP12 Black</td><td>Wide World Importers</td><td>Europe</td><td>7285,4</td><td>16</td></tr>",
                            "<tr><td>16203</td><td>The Phone Company Touch Screen Phones Capacitive M908 Grey</td><td>The Phone Company</td><td>Europe</td><td>7305,76</td><td>24</td></tr>",
                            "<tr><td>11120</td><td>Fabrikam Trendsetter 1/3'' 8.5mm X200 Black</td><td>Fabrikam, Inc.</td><td>Europe</td><td>7392,6</td><td>8</td></tr>",
                            "<tr><td>7146</td><td>Fabrikam Trendsetter 1/2'' 3mm X300 Black</td><td>Fabrikam, Inc.</td><td>Europe</td><td>7392,6</td><td>8</td></tr>",
                            "<tr><td>19689</td><td>Contoso SLR Camera X145 Blue</td><td>Contoso, Ltd</td><td>Europe</td><td>7451,28</td><td>12</td></tr>",
                            "<tr><td>626</td><td>A. Datum SLR Camera X142 Orange</td><td>A. Datum Corporation</td><td>Europe</td><td>7515,2</td><td>18</td></tr>",
                            "<tr><td>12102</td><td>Proseware Projector 720p DLP56 Silver</td><td>Proseware, Inc.</td><td>Europe</td><td>7592,4</td><td>8</td></tr>",
                            "<tr><td>18509</td><td>Proseware Projector 720p DLP56 White</td><td>Proseware, Inc.</td><td>Europe</td><td>7592,4</td><td>8</td></tr>",
                            "<tr><td>20742</td><td>Proseware Projector 720p DLP56 Silver</td><td>Proseware, Inc.</td><td>Europe</td><td>7592,4</td><td>8</td></tr>",
                            "<tr><td>1377</td><td>Adventure Works Laptop12 M1201 Red</td><td>Adventure Works</td><td>Europe</td><td>7659</td><td>20</td></tr>",
                            "<tr><td>4828</td><td>Fabrikam Laptop16W M6080 Black</td><td>Fabrikam, Inc.</td><td>Europe</td><td>7736</td><td>8</td></tr>",
                            "<tr><td>20289</td><td>Fabrikam Laptop17W M7080 Black</td><td>Fabrikam, Inc.</td><td>Europe</td><td>7743,12</td><td>9</td></tr>",
                            "<tr><td>18524</td><td>Fabrikam Trendsetter 1/2'' 3mm X300 White</td><td>Fabrikam, Inc.</td><td>Europe</td><td>7792,2</td><td>8</td></tr>",
                            "<tr><td>11179</td><td>SV Car Video LCD7W M7080 Black</td><td>Southridge Video</td><td>Europe</td><td>7800</td><td>16</td></tr>",
                            "<tr><td>19841</td><td>Fabrikam Home and Vacation Moviemaker 2/3'' 17mm M103 Grey</td><td>Fabrikam, Inc.</td><td>Europe</td><td>7814,15</td><td>12</td></tr>",
                            "<tr><td>8700</td><td>WWI Desktop PC1.60 E1600 Silver</td><td>Wide World Importers</td><td>Europe</td><td>7918,2</td><td>36</td></tr>",
                            "<tr><td>20202</td><td>Adventure Works Desktop PC1.80 ED182 White</td><td>Adventure Works</td><td>Europe</td><td>7998,4</td><td>16</td></tr>",
                            "<tr><td>17787</td><td>A. Datum SLR Camera 35&quot; M358 Black</td><td>A. Datum Corporation</td><td>Europe</td><td>8017,36</td><td>24</td></tr>",
                            "<tr><td>19996</td><td>A. Datum SLR Camera 35&quot; M358 Grey</td><td>A. Datum Corporation</td><td>Europe</td><td>8017,36</td><td>24</td></tr>",
                            "<tr><td>6294</td><td>Contoso Home Theater System 5.1 Channel M1520 White</td><td>Contoso, Ltd</td><td>Europe</td><td>8136</td><td>24</td></tr>",
                            "<tr><td>863</td><td>Contoso Projector 480p M480 White</td><td>Contoso, Ltd</td><td>Europe</td><td>8179,88</td><td>36</td></tr>",
                            "<tr><td>15053</td><td>Contoso Home Theater System 4.1 Channel M1400 White</td><td>Contoso, Ltd</td><td>Europe</td><td>8180</td><td>20</td></tr>",
                            "<tr><td>16756</td><td>WWI Laptop15 M0150 Black</td><td>Wide World Importers</td><td>Europe</td><td>8192,28</td><td>12</td></tr>",
                            "<tr><td>10526</td><td>Litware Home Theater System 5.1 Channel M512 Silver</td><td>Litware, Inc.</td><td>Europe</td><td>8241,21</td><td>12</td></tr>",
                            "<tr><td>9716</td><td>WWI Projector 480p LCD12 Silver</td><td>Wide World Importers</td><td>Europe</td><td>8244</td><td>36</td></tr>",
                            "<tr><td>1649</td><td>Adventure Works 26&quot; 720p LCD HDTV M140 Silver</td><td>Adventure Works</td><td>Europe</td><td>8318,469</td><td>18</td></tr>",
                            "<tr><td>18699</td><td>WWI Projector 720p DLP56 Black</td><td>Wide World Importers</td><td>Europe</td><td>8591,4</td><td>9</td></tr>",
                            "<tr><td>17150</td><td>SV Car Video LCD9.2W X9281 Black</td><td>Southridge Video</td><td>Europe</td><td>8690</td><td>10</td></tr>",
                            "<tr><td>8182</td><td>Contoso Screen 85in E085 White</td><td>Contoso, Ltd</td><td>Europe</td><td>8701,4</td><td>64</td></tr>",
                            "<tr><td>4131</td><td>Adventure Works Desktop PC1.80 ED180 Silver</td><td>Adventure Works</td><td>Europe</td><td>8708,4</td><td>24</td></tr>",
                            "<tr><td>647</td><td>WWI Desktop PC2.30 M2300 Brown</td><td>Wide World Importers</td><td>Europe</td><td>8720,4</td><td>16</td></tr>",
                            "<tr><td>13846</td><td>Adventure Works 40&quot; LCD HDTV M690 Brown</td><td>Adventure Works</td><td>Europe</td><td>8768,778</td><td>8</td></tr>",
                            "<tr><td>8895</td><td>The Phone Company Touch Screen Phones SAW/On-wall M806 Grey</td><td>The Phone Company</td><td>Europe</td><td>8790</td><td>30</td></tr>",
                            "<tr><td>308</td><td>WWI Desktop PC1.60 E1600 Black</td><td>Wide World Importers</td><td>Europe</td><td>8798</td><td>40</td></tr>",
                            "<tr><td>16154</td><td>A. Datum SLR Camera 35&quot; X358 Gold</td><td>A. Datum Corporation</td><td>Europe</td><td>8820</td><td>16</td></tr>",
                            "<tr><td>3404</td><td>Adventure Works Desktop PC1.80 ED180 Silver</td><td>Adventure Works</td><td>Europe</td><td>8830,17</td><td>24</td></tr>",
                            "<tr><td>21499</td><td>Adventure Works Laptop15.4W M1548 White</td><td>Adventure Works</td><td>Europe</td><td>8883,76</td><td>12</td></tr>",
                            "<tr><td>16427</td><td>Contoso Home Theater System 7.1 Channel M1700 White</td><td>Contoso, Ltd</td><td>Europe</td><td>8890</td><td>10</td></tr>",
                            "<tr><td>4693</td><td>Contoso Home Theater System 7.1 Channel M1700 Silver</td><td>Contoso, Ltd</td><td>Europe</td><td>8890</td><td>10</td></tr>",
                            "<tr><td>20360</td><td>Contoso Projector 480p M481 White</td><td>Contoso, Ltd</td><td>Europe</td><td>8932,1</td><td>18</td></tr>",
                            "<tr><td>5628</td><td>Adventure Works Laptop12 M1201 Red</td><td>Adventure Works</td><td>Europe</td><td>9137,187</td><td>24</td></tr>",
                            "<tr><td>16250</td><td>WWI Laptop16 M0160 Black</td><td>Wide World Importers</td><td>Europe</td><td>9224,6</td><td>16</td></tr>",
                            "<tr><td>11582</td><td>Fabrikam Independent Filmmaker 1/3'' 8.5mm X200 Grey</td><td>Fabrikam, Inc.</td><td>Europe</td><td>9250,8</td><td>6</td></tr>",
                            "<tr><td>12972</td><td>Proseware Laptop16 M610 White</td><td>Proseware, Inc.</td><td>Europe</td><td>9464,2</td><td>16</td></tr>",
                            "<tr><td>15249</td><td>The Phone Company PDA Palm 4.7 inch L850 Black</td><td>The Phone Company</td><td>Europe</td><td>9552</td><td>24</td></tr>",
                            "<tr><td>8138</td><td>Fabrikam Budget Moviemaker 1/2'' 3mm E300 Black</td><td>Fabrikam, Inc.</td><td>Europe</td><td>9640</td><td>20</td></tr>",
                            "<tr><td>1950</td><td>Contoso SLR Camera M142 Black</td><td>Contoso, Ltd</td><td>Europe</td><td>9671,2</td><td>32</td></tr>",
                            "<tr><td>1875</td><td>Adventure Works Desktop PC2.33 XD233 Silver</td><td>Adventure Works</td><td>Europe</td><td>9690</td><td>10</td></tr>",
                            "<tr><td>19230</td><td>SV Car Video LCD7W M7081 Black</td><td>Southridge Video</td><td>Europe</td><td>9980</td><td>20</td></tr>",
                            "<tr><td>10076</td><td>Fabrikam Trendsetter 1/2'' 3mm X300 Black</td><td>Fabrikam, Inc.</td><td>Europe</td><td>9990</td><td>10</td></tr>",
                            "<tr><td>9043</td><td>Contoso Projector 720p M621 Silver</td><td>Contoso, Ltd</td><td>Europe</td><td>9990</td><td>10</td></tr>",
                            "<tr><td>12650</td><td>Proseware LCD22W M2001 Black</td><td>Proseware, Inc.</td><td>Europe</td><td>10049,2</td><td>16</td></tr>",
                            "<tr><td>9246</td><td>Fabrikam SLR Camera X146 Black</td><td>Fabrikam, Inc.</td><td>Europe</td><td>10064</td><td>16</td></tr>",
                            "<tr><td>17279</td><td>A. Datum Consumer Digital Camera E100 Black</td><td>A. Datum Corporation</td><td>Europe</td><td>10116</td><td>36</td></tr>",
                            "<tr><td>20647</td><td>Litware Home Theater System 5.1 Channel M513 Black</td><td>Litware, Inc.</td><td>Europe</td><td>10197,2</td><td>16</td></tr>",
                            "<tr><td>5</td><td>Fabrikam SLR Camera 35&quot; X358 Blue</td><td>Fabrikam, Inc.</td><td>Europe</td><td>10207,08</td><td>24</td></tr>",
                            "<tr><td>15488</td><td>Fabrikam Business Videographer 1/3'' 8.5mm M380 White</td><td>Fabrikam, Inc.</td><td>Europe</td><td>10272</td><td>12</td></tr>",
                            "<tr><td>19188</td><td>Fabrikam SLR Camera 35&quot; X358 Silver Grey</td><td>Fabrikam, Inc.</td><td>Europe</td><td>10346,664</td><td>24</td></tr>",
                            "<tr><td>20411</td><td>Adventure Works LCD24W X300 White</td><td>Adventure Works</td><td>Europe</td><td>10428</td><td>12</td></tr>",
                            "<tr><td>5852</td><td>WWI Projector 720p LCD56 Silver</td><td>Wide World Importers</td><td>Europe</td><td>10485</td><td>16</td></tr>",
                            "<tr><td>15674</td><td>The Phone Company Touch Screen Phones SAW/On-wall M806 Gold</td><td>The Phone Company</td><td>Europe</td><td>10548</td><td>36</td></tr>",
                            "<tr><td>11239</td><td>Adventure Works Laptop16 M1601 Blue</td><td>Adventure Works</td><td>Europe</td><td>10602,3</td><td>18</td></tr>",
                            "<tr><td>12621</td><td>Adventure Works Laptop15 M1500 Black</td><td>Adventure Works</td><td>Europe</td><td>10624,8</td><td>16</td></tr>",
                            "<tr><td>9553</td><td>The Phone Company Touch Screen Phones Infrared M901 Black</td><td>The Phone Company</td><td>Europe</td><td>10740</td><td>36</td></tr>",
                            "<tr><td>21959</td><td>WWI Desktop PC1.80 E1802 White</td><td>Wide World Importers</td><td>Europe</td><td>10766,41</td><td>36</td></tr>",
                            "<tr><td>21612</td><td>Adventure Works Desktop PC1.60 ED160 White</td><td>Adventure Works</td><td>Europe</td><td>10798</td><td>40</td></tr>",
                            "<tr><td>5854</td><td>Adventure Works Desktop PC1.80 ED182 Black</td><td>Adventure Works</td><td>Europe</td><td>11697,66</td><td>24</td></tr>",
                            "<tr><td>9882</td><td>Proseware Projector 720p DLP56 Silver</td><td>Proseware, Inc.</td><td>Europe</td><td>11848,14</td><td>12</td></tr>",
                            "<tr><td>1870</td><td>WWI Projector 720p DLP56 White</td><td>Wide World Importers</td><td>Europe</td><td>11918,07</td><td>12</td></tr>",
                            "<tr><td>13563</td><td>Adventure Works Laptop16 M1601 White</td><td>Adventure Works</td><td>Europe</td><td>11980</td><td>20</td></tr>",
                            "<tr><td>21822</td><td>Contoso Projector 720p M621 White</td><td>Contoso, Ltd</td><td>Europe</td><td>11988</td><td>12</td></tr>",
                            "<tr><td>7134</td><td>Adventure Works Desktop PC1.80 ED182 Black</td><td>Adventure Works</td><td>Europe</td><td>11997,6</td><td>24</td></tr>",
                            "<tr><td>18883</td><td>Litware Home Theater System 5.1 Channel M511 Brown</td><td>Litware, Inc.</td><td>Europe</td><td>12022,8</td><td>18</td></tr>",
                            "<tr><td>7331</td><td>WWI LCD24 X300 Black</td><td>Wide World Importers</td><td>Europe</td><td>12121,2</td><td>16</td></tr>",
                            "<tr><td>375</td><td>Contoso Projector 720p M620 White</td><td>Contoso, Ltd</td><td>Europe</td><td>12162,6</td><td>18</td></tr>",
                            "<tr><td>14653</td><td>Contoso Projector 720p M620 Silver</td><td>Contoso, Ltd</td><td>Europe</td><td>12232,5</td><td>18</td></tr>",
                            "<tr><td>8067</td><td>A. Datum SLR Camera M139 Gold</td><td>A. Datum Corporation</td><td>Europe</td><td>12480</td><td>40</td></tr>",
                            "<tr><td>17923</td><td>Litware Home Theater System 5.1 Channel M510 Black</td><td>Litware, Inc.</td><td>Europe</td><td>12780</td><td>20</td></tr>",
                            "<tr><td>21498</td><td>WWI Desktop PC1.80 E1801 Brown</td><td>Wide World Importers</td><td>Europe</td><td>12879,628</td><td>48</td></tr>",
                            "<tr><td>18843</td><td>SV Car Video TFT6.2W E6282 Black</td><td>Southridge Video</td><td>Europe</td><td>12893,17</td><td>48</td></tr>",
                            "<tr><td>18330</td><td>Fabrikam Business Videographer 2/3'' 17mm M280 Black</td><td>Fabrikam, Inc.</td><td>Europe</td><td>12920</td><td>16</td></tr>",
                            "<tr><td>20515</td><td>WWI Laptop19W X0196 White</td><td>Wide World Importers</td><td>Europe</td><td>12990</td><td>10</td></tr>",
                            "<tr><td>1955</td><td>Adventure Works Desktop PC1.80 ED180 White</td><td>Adventure Works</td><td>Europe</td><td>13284</td><td>36</td></tr>",
                            "<tr><td>8237</td><td>Adventure Works 42&quot; LCD HDTV M55 Black</td><td>Adventure Works</td><td>Europe</td><td>13437,776</td><td>18</td></tr>",
                            "<tr><td>20345</td><td>Fabrikam Independent Filmmaker 1/3&quot; 8.5mm X200 Blue</td><td>Fabrikam, Inc.</td><td>Europe</td><td>13464</td><td>9</td></tr>",
                            "<tr><td>17077</td><td>Contoso SLR Camera 35&quot; X358 Silver Grey</td><td>Contoso, Ltd</td><td>Europe</td><td>13592,24</td><td>24</td></tr>",
                            "<tr><td>14729</td><td>Litware Home Theater System 5.1 Channel M513 Brown</td><td>Litware, Inc.</td><td>Europe</td><td>13780</td><td>20</td></tr>",
                            "<tr><td>19458</td><td>Adventure Works Laptop15 M1501 Red</td><td>Adventure Works</td><td>Europe</td><td>13980</td><td>20</td></tr>",
                            "<tr><td>15127</td><td>Adventure Works 40&quot; LCD HDTV M690 Brown</td><td>Adventure Works</td><td>Europe</td><td>14136,6921</td><td>12</td></tr>",
                            "<tr><td>20897</td><td>Fabrikam Independent Filmmaker 1/2'' 3mm X300 Grey</td><td>Fabrikam, Inc.</td><td>Europe</td><td>14220</td><td>9</td></tr>",
                            "<tr><td>14210</td><td>A. Datum SLR Camera X138 Silver Grey</td><td>A. Datum Corporation</td><td>Europe</td><td>14421</td><td>24</td></tr>",
                            "<tr><td>5298</td><td>Fabrikam Trendsetter 1/2'' 3mm X300 Grey</td><td>Fabrikam, Inc.</td><td>Europe</td><td>14585,4</td><td>16</td></tr>",
                            "<tr><td>6072</td><td>WWI LCD22 M2002 Black</td><td>Wide World Importers</td><td>Europe</td><td>14856</td><td>24</td></tr>",
                            "<tr><td>9025</td><td>A. Datum SLR Camera X140 Pink</td><td>A. Datum Corporation</td><td>Europe</td><td>14872,44</td><td>24</td></tr>",
                            "<tr><td>20084</td><td>WWI Projector 720p DLP56 Silver</td><td>Wide World Importers</td><td>Europe</td><td>15184,8</td><td>16</td></tr>",
                            "<tr><td>6284</td><td>Adventure Works LCD24W X300 White</td><td>Adventure Works</td><td>Europe</td><td>15207,5</td><td>18</td></tr>",
                            "<tr><td>12617</td><td>Proseware LCD24W X300 White</td><td>Proseware, Inc.</td><td>Europe</td><td>15468,2</td><td>18</td></tr>",
                            "<tr><td>16699</td><td>Adventure Works 52&quot; LCD HDTV X790W Brown</td><td>Adventure Works</td><td>Europe</td><td>15922</td><td>10</td></tr>",
                            "<tr><td>13608</td><td>Adventure Works Laptop15 M1501 White</td><td>Adventure Works</td><td>Europe</td><td>15937,2</td><td>24</td></tr>",
                            "<tr><td>2204</td><td>Contoso Projector 720p M620 White</td><td>Contoso, Ltd</td><td>Europe</td><td>15937,2</td><td>24</td></tr>",
                            "<tr><td>7287</td><td>Adventure Works Laptop15 M1500 Black</td><td>Adventure Works</td><td>Europe</td><td>15937,2</td><td>24</td></tr>",
                            "<tr><td>13253</td><td>Adventure Works 20&quot; Analog CRT TV E45 Black</td><td>Adventure Works</td><td>Europe</td><td>16000</td><td>80</td></tr>",
                            "<tr><td>6505</td><td>The Phone Company PDA Phone 4.7 inches L360 Black</td><td>The Phone Company</td><td>Europe</td><td>16080</td><td>40</td></tr>",
                            "<tr><td>8584</td><td>WWI LCD22W M2003 White</td><td>Wide World Importers</td><td>Europe</td><td>16296</td><td>24</td></tr>",
                            "<tr><td>7320</td><td>Litware Home Theater System 5.1 Channel M513 Brown</td><td>Litware, Inc.</td><td>Europe</td><td>16536</td><td>24</td></tr>",
                            "<tr><td>5016</td><td>Fabrikam Home and Vacation Moviemaker 1/3'' 8.5mm M200 White</td><td>Fabrikam, Inc.</td><td>Europe</td><td>16837,8</td><td>27</td></tr>",
                            "<tr><td>7541</td><td>Fabrikam Business Videographer 1/3'' 8.5mm M380 Black</td><td>Fabrikam, Inc.</td><td>Europe</td><td>17200</td><td>20</td></tr>",
                            "<tr><td>3111</td><td>SV Car Video LCD7W M7081 Silver</td><td>Southridge Video</td><td>Europe</td><td>17684,56</td><td>36</td></tr>",
                            "<tr><td>18055</td><td>Contoso Projector 1080p X980 Silver</td><td>Contoso, Ltd</td><td>Europe</td><td>17901</td><td>8</td></tr>",
                            "<tr><td>17440</td><td>Fabrikam Independent Filmmaker 1/3&quot; 8.5mm X200 Blue</td><td>Fabrikam, Inc.</td><td>Europe</td><td>18360</td><td>12</td></tr>",
                            "<tr><td>8500</td><td>Fabrikam SLR Camera X147 Grey</td><td>Fabrikam, Inc.</td><td>Europe</td><td>19350</td><td>30</td></tr>",
                            "<tr><td>3873</td><td>Adventure Works Desktop PC1.80 ED180 Brown</td><td>Adventure Works</td><td>Europe</td><td>19557</td><td>54</td></tr>",
                            "<tr><td>15248</td><td>WWI Laptop19W X0196 Blue</td><td>Wide World Importers</td><td>Europe</td><td>20004,6</td><td>16</td></tr>",
                            "<tr><td>17126</td><td>Contoso Home Theater System 7.1 Channel M1700 Silver</td><td>Contoso, Ltd</td><td>Europe</td><td>21149,31</td><td>24</td></tr>",
                            "<tr><td>3554</td><td>Fabrikam Trendsetter 2/3'' 17mm X100 Black</td><td>Fabrikam, Inc.</td><td>Europe</td><td>22540</td><td>24</td></tr>",
                            "<tr><td>637</td><td>Adventure Works 52&quot; LCD HDTV X590 Silver</td><td>Adventure Works</td><td>Europe</td><td>22619,922</td><td>8</td></tr>",
                            "<tr><td>19083</td><td>A. Datum SLR Camera X135 Black</td><td>A. Datum Corporation</td><td>Europe</td><td>23324,4</td><td>40</td></tr>",
                            "<tr><td>4814</td><td>Fabrikam Trendsetter 1/3'' 8.5mm X200 White</td><td>Fabrikam, Inc.</td><td>Europe</td><td>23952</td><td>24</td></tr>",
                            "<tr><td>12904</td><td>Proseware Projector 1080p DLP86 White</td><td>Proseware, Inc.</td><td>Europe</td><td>24990</td><td>10</td></tr>",
                            "<tr><td>2974</td><td>WWI Laptop19W X0196 Black</td><td>Wide World Importers</td><td>Europe</td><td>25980</td><td>20</td></tr>",
                            "<tr><td>6121</td><td>Adventure Works Desktop PC1.80 ED182 Brown</td><td>Adventure Works</td><td>Europe</td><td>26794,64</td><td>54</td></tr>",
                            "<tr><td>744</td><td>Adventure Works 52&quot; LCD HDTV X590 White</td><td>Adventure Works</td><td>Europe</td><td>28999,9</td><td>10</td></tr>",
                            "<tr><td>14449</td><td>Proseware Projector 720p DLP56 Silver</td><td>Proseware, Inc.</td><td>Europe</td><td>29970</td><td>30</td></tr>",
                            "<tr><td>3453</td><td>Contoso Projector 720p M621 White</td><td>Contoso, Ltd</td><td>Europe</td><td>29970</td><td>30</td></tr>",
                            "<tr><td>8058</td><td>Fabrikam Laptop15.4W M5480 White</td><td>Fabrikam, Inc.</td><td>Europe</td><td>30320</td><td>40</td></tr>",
                            "<tr><td>15822</td><td>Adventure Works 52&quot; LCD HDTV X590 White</td><td>Adventure Works</td><td>Europe</td><td>45239,844</td><td>16</td></tr>",
                            "<tr><td>9474</td><td>WWI Projector 1080p DLP86 Silver</td><td>Wide World Importers</td><td>Europe</td><td>49980</td><td>20</td></tr>",
                            "<tr><td>3313</td><td>Contoso Projector 1080p X980 Silver</td><td>Contoso, Ltd</td><td>Europe</td><td>54276,75</td><td>24</td></tr>",
                            "</table>"
                        ]
                    }
                }
            ],
            "execution_count": 88
        },
        {
            "cell_type": "markdown",
            "source": [
                "Soma da quantidade por Fabricante, produto, Continente e País que fossem da Russia e não deram desconto; \n",
                "\n",
                "Visto que o valor de venda seja = ou maior que a média do valor de venda"
            ],
            "metadata": {
                "azdata_cell_guid": "ba0ec6cf-ccb7-4919-add0-0c1df8c52da3"
            }
        },
        {
            "cell_type": "markdown",
            "source": [
                "- **Somou a quantidade por Fabricante, produto e Continente e País que fossem da Russia e não deram desconto** **onde o valor de venda seja = ou maior que a médcia do valor de venda**"
            ],
            "metadata": {
                "azdata_cell_guid": "53932027-04de-4fc3-a0fd-0fed1153a3cb"
            }
        },
        {
            "cell_type": "markdown",
            "source": [
                "##"
            ],
            "metadata": {
                "azdata_cell_guid": "9c97c7e1-6247-4450-bec7-64b9eeb37ace"
            }
        },
        {
            "cell_type": "code",
            "source": [
                "Select Fabricante,Produto, Valor_venda,Sum(Quantidade) as QTD, Continente, País\r\n",
                "from Vendas_d.dbo.M_vendas\r\n",
                "where País = 'Russia' and \r\n",
                "Promocao <> 'No Discount' and\r\n",
                "Valor_venda>=(select (avg(Valor_venda)) as Média_venda\r\n",
                "from Vendas_d.dbo.M_vendas)\r\n",
                "group by Fabricante,Produto, Valor_venda, Continente, País\r\n",
                "order by Produto"
            ],
            "metadata": {
                "azdata_cell_guid": "fda864af-637f-4326-8219-5522711ca51d",
                "tags": [
                    "hide_input"
                ]
            },
            "outputs": [
                {
                    "output_type": "display_data",
                    "data": {
                        "text/html": "(23 rows affected)"
                    },
                    "metadata": {}
                },
                {
                    "output_type": "display_data",
                    "data": {
                        "text/html": "Total execution time: 00:00:00.009"
                    },
                    "metadata": {}
                },
                {
                    "output_type": "execute_result",
                    "metadata": {},
                    "execution_count": 89,
                    "data": {
                        "application/vnd.dataresource+json": {
                            "schema": {
                                "fields": [
                                    {
                                        "name": "Fabricante"
                                    },
                                    {
                                        "name": "Produto"
                                    },
                                    {
                                        "name": "Valor_venda"
                                    },
                                    {
                                        "name": "QTD"
                                    },
                                    {
                                        "name": "Continente"
                                    },
                                    {
                                        "name": "País"
                                    }
                                ]
                            },
                            "data": [
                                {
                                    "0": "A. Datum Corporation",
                                    "1": "A. Datum SLR Camera X138 Silver Grey",
                                    "2": "7649,4",
                                    "3": "13",
                                    "4": "Europe",
                                    "5": "Russia"
                                },
                                {
                                    "0": "Adventure Works",
                                    "1": "Adventure Works Desktop PC1.80 ED182 Brown",
                                    "2": "9998",
                                    "3": "20",
                                    "4": "Europe",
                                    "5": "Russia"
                                },
                                {
                                    "0": "Adventure Works",
                                    "1": "Adventure Works Laptop16 M1601 Red",
                                    "2": "7667,2",
                                    "3": "13",
                                    "4": "Europe",
                                    "5": "Russia"
                                },
                                {
                                    "0": "Adventure Works",
                                    "1": "Adventure Works Laptop19W X1980 Blue",
                                    "2": "9352,8",
                                    "3": "8",
                                    "4": "Europe",
                                    "5": "Russia"
                                },
                                {
                                    "0": "Adventure Works",
                                    "1": "Adventure Works Laptop19W X1980 Blue",
                                    "2": "10392",
                                    "3": "8",
                                    "4": "Europe",
                                    "5": "Russia"
                                },
                                {
                                    "0": "Contoso, Ltd",
                                    "1": "Contoso Home Theater System 5.1 Channel M1510 Brown",
                                    "2": "6063,6",
                                    "3": "13",
                                    "4": "Europe",
                                    "5": "Russia"
                                },
                                {
                                    "0": "Contoso, Ltd",
                                    "1": "Contoso Home Theater System 7.1 Channel M1700 White",
                                    "2": "7912,1",
                                    "3": "9",
                                    "4": "Europe",
                                    "5": "Russia"
                                },
                                {
                                    "0": "Contoso, Ltd",
                                    "1": "Contoso Rubberized Skin BlackBerry E100 Silver",
                                    "2": "5395,3507",
                                    "3": "360",
                                    "4": "Europe",
                                    "5": "Russia"
                                },
                                {
                                    "0": "Contoso, Ltd",
                                    "1": "Contoso SLR Camera X144 Gold",
                                    "2": "6730",
                                    "3": "10",
                                    "4": "Europe",
                                    "5": "Russia"
                                },
                                {
                                    "0": "Fabrikam, Inc.",
                                    "1": "Fabrikam Business Videographer 1'' 25mm M600 White",
                                    "2": "7654",
                                    "3": "9",
                                    "4": "Europe",
                                    "5": "Russia"
                                },
                                {
                                    "0": "Fabrikam, Inc.",
                                    "1": "Fabrikam Business Videographer 1/2\" 3mm M500 Orange",
                                    "2": "7040",
                                    "3": "8",
                                    "4": "Europe",
                                    "5": "Russia"
                                },
                                {
                                    "0": "Fabrikam, Inc.",
                                    "1": "Fabrikam Business Videographer 1/3'' 8.5mm M380 Grey",
                                    "2": "7740",
                                    "3": "9",
                                    "4": "Europe",
                                    "5": "Russia"
                                },
                                {
                                    "0": "Fabrikam, Inc.",
                                    "1": "Fabrikam Home and Vacation Moviemaker 1/2'' 3mm M300 Grey",
                                    "2": "4924,2",
                                    "3": "9",
                                    "4": "Europe",
                                    "5": "Russia"
                                },
                                {
                                    "0": "Fabrikam, Inc.",
                                    "1": "Fabrikam SLR Camera 35\" X358 Grey",
                                    "2": "3925,8",
                                    "3": "9",
                                    "4": "Europe",
                                    "5": "Russia"
                                },
                                {
                                    "0": "Fabrikam, Inc.",
                                    "1": "Fabrikam SLR Camera 35\" X358 Pink",
                                    "2": "5583,36",
                                    "3": "13",
                                    "4": "Europe",
                                    "5": "Russia"
                                },
                                {
                                    "0": "Fabrikam, Inc.",
                                    "1": "Fabrikam SLR Camera X148 Silver Grey",
                                    "2": "4861,8",
                                    "3": "8",
                                    "4": "Europe",
                                    "5": "Russia"
                                },
                                {
                                    "0": "Fabrikam, Inc.",
                                    "1": "Fabrikam Trendsetter 1/2'' 3mm X300 Black",
                                    "2": "7792,2",
                                    "3": "8",
                                    "4": "Europe",
                                    "5": "Russia"
                                },
                                {
                                    "0": "Fabrikam, Inc.",
                                    "1": "Fabrikam Trendsetter 2/3'' 17mm X100 White",
                                    "2": "11622,8",
                                    "3": "12",
                                    "4": "Europe",
                                    "5": "Russia"
                                },
                                {
                                    "0": "Southridge Video",
                                    "1": "SV Car Video LCD7W M7082 Black",
                                    "2": "5452,2",
                                    "3": "8",
                                    "4": "Europe",
                                    "5": "Russia"
                                },
                                {
                                    "0": "The Phone Company",
                                    "1": "The Phone Company Smart phones Unlocked International M800 Gold",
                                    "2": "3720",
                                    "3": "12",
                                    "4": "Europe",
                                    "5": "Russia"
                                },
                                {
                                    "0": "Wide World Importers",
                                    "1": "WWI Desktop PC1.80 E1802 White",
                                    "2": "5338,22",
                                    "3": "18",
                                    "4": "Europe",
                                    "5": "Russia"
                                },
                                {
                                    "0": "Wide World Importers",
                                    "1": "WWI Laptop15 M0150 Black",
                                    "2": "6291",
                                    "3": "9",
                                    "4": "Europe",
                                    "5": "Russia"
                                },
                                {
                                    "0": "Wide World Importers",
                                    "1": "WWI LCD22 M2002 Black",
                                    "2": "4580,6",
                                    "3": "8",
                                    "4": "Europe",
                                    "5": "Russia"
                                }
                            ]
                        },
                        "text/html": [
                            "<table>",
                            "<tr><th>Fabricante</th><th>Produto</th><th>Valor_venda</th><th>QTD</th><th>Continente</th><th>País</th></tr>",
                            "<tr><td>A. Datum Corporation</td><td>A. Datum SLR Camera X138 Silver Grey</td><td>7649,4</td><td>13</td><td>Europe</td><td>Russia</td></tr>",
                            "<tr><td>Adventure Works</td><td>Adventure Works Desktop PC1.80 ED182 Brown</td><td>9998</td><td>20</td><td>Europe</td><td>Russia</td></tr>",
                            "<tr><td>Adventure Works</td><td>Adventure Works Laptop16 M1601 Red</td><td>7667,2</td><td>13</td><td>Europe</td><td>Russia</td></tr>",
                            "<tr><td>Adventure Works</td><td>Adventure Works Laptop19W X1980 Blue</td><td>9352,8</td><td>8</td><td>Europe</td><td>Russia</td></tr>",
                            "<tr><td>Adventure Works</td><td>Adventure Works Laptop19W X1980 Blue</td><td>10392</td><td>8</td><td>Europe</td><td>Russia</td></tr>",
                            "<tr><td>Contoso, Ltd</td><td>Contoso Home Theater System 5.1 Channel M1510 Brown</td><td>6063,6</td><td>13</td><td>Europe</td><td>Russia</td></tr>",
                            "<tr><td>Contoso, Ltd</td><td>Contoso Home Theater System 7.1 Channel M1700 White</td><td>7912,1</td><td>9</td><td>Europe</td><td>Russia</td></tr>",
                            "<tr><td>Contoso, Ltd</td><td>Contoso Rubberized Skin BlackBerry E100 Silver</td><td>5395,3507</td><td>360</td><td>Europe</td><td>Russia</td></tr>",
                            "<tr><td>Contoso, Ltd</td><td>Contoso SLR Camera X144 Gold</td><td>6730</td><td>10</td><td>Europe</td><td>Russia</td></tr>",
                            "<tr><td>Fabrikam, Inc.</td><td>Fabrikam Business Videographer 1'' 25mm M600 White</td><td>7654</td><td>9</td><td>Europe</td><td>Russia</td></tr>",
                            "<tr><td>Fabrikam, Inc.</td><td>Fabrikam Business Videographer 1/2&quot; 3mm M500 Orange</td><td>7040</td><td>8</td><td>Europe</td><td>Russia</td></tr>",
                            "<tr><td>Fabrikam, Inc.</td><td>Fabrikam Business Videographer 1/3'' 8.5mm M380 Grey</td><td>7740</td><td>9</td><td>Europe</td><td>Russia</td></tr>",
                            "<tr><td>Fabrikam, Inc.</td><td>Fabrikam Home and Vacation Moviemaker 1/2'' 3mm M300 Grey</td><td>4924,2</td><td>9</td><td>Europe</td><td>Russia</td></tr>",
                            "<tr><td>Fabrikam, Inc.</td><td>Fabrikam SLR Camera 35&quot; X358 Grey</td><td>3925,8</td><td>9</td><td>Europe</td><td>Russia</td></tr>",
                            "<tr><td>Fabrikam, Inc.</td><td>Fabrikam SLR Camera 35&quot; X358 Pink</td><td>5583,36</td><td>13</td><td>Europe</td><td>Russia</td></tr>",
                            "<tr><td>Fabrikam, Inc.</td><td>Fabrikam SLR Camera X148 Silver Grey</td><td>4861,8</td><td>8</td><td>Europe</td><td>Russia</td></tr>",
                            "<tr><td>Fabrikam, Inc.</td><td>Fabrikam Trendsetter 1/2'' 3mm X300 Black</td><td>7792,2</td><td>8</td><td>Europe</td><td>Russia</td></tr>",
                            "<tr><td>Fabrikam, Inc.</td><td>Fabrikam Trendsetter 2/3'' 17mm X100 White</td><td>11622,8</td><td>12</td><td>Europe</td><td>Russia</td></tr>",
                            "<tr><td>Southridge Video</td><td>SV Car Video LCD7W M7082 Black</td><td>5452,2</td><td>8</td><td>Europe</td><td>Russia</td></tr>",
                            "<tr><td>The Phone Company</td><td>The Phone Company Smart phones Unlocked International M800 Gold</td><td>3720</td><td>12</td><td>Europe</td><td>Russia</td></tr>",
                            "<tr><td>Wide World Importers</td><td>WWI Desktop PC1.80 E1802 White</td><td>5338,22</td><td>18</td><td>Europe</td><td>Russia</td></tr>",
                            "<tr><td>Wide World Importers</td><td>WWI Laptop15 M0150 Black</td><td>6291</td><td>9</td><td>Europe</td><td>Russia</td></tr>",
                            "<tr><td>Wide World Importers</td><td>WWI LCD22 M2002 Black</td><td>4580,6</td><td>8</td><td>Europe</td><td>Russia</td></tr>",
                            "</table>"
                        ]
                    }
                }
            ],
            "execution_count": 89
        },
        {
            "cell_type": "markdown",
            "source": [
                "## **Empresa que mais vendeu neste consolidado**"
            ],
            "metadata": {
                "azdata_cell_guid": "3f41874b-d39f-4f44-83cd-67ef61663421"
            }
        },
        {
            "cell_type": "code",
            "source": [
                "Select Fabricante, count(Valor_venda) as Total_vendas\r\n",
                "from Vendas_d.dbo.M_vendas\r\n",
                "group by Fabricante"
            ],
            "metadata": {
                "azdata_cell_guid": "17d6ecba-6b85-4bbf-8dc6-0b031068206d",
                "tags": [
                    "hide_input"
                ]
            },
            "outputs": [
                {
                    "output_type": "display_data",
                    "data": {
                        "text/html": "(10 rows affected)"
                    },
                    "metadata": {}
                },
                {
                    "output_type": "display_data",
                    "data": {
                        "text/html": "Total execution time: 00:00:00.031"
                    },
                    "metadata": {}
                },
                {
                    "output_type": "execute_result",
                    "metadata": {
                        "azdata_chartOptions": {
                            "type": "bar",
                            "dataDirection": "horizontal",
                            "columnsAsLabels": true,
                            "labelFirstColumn": true,
                            "legendPosition": "top"
                        }
                    },
                    "execution_count": 90,
                    "data": {
                        "application/vnd.dataresource+json": {
                            "schema": {
                                "fields": [
                                    {
                                        "name": "Fabricante"
                                    },
                                    {
                                        "name": "Total_vendas"
                                    }
                                ]
                            },
                            "data": [
                                {
                                    "0": "Contoso, Ltd",
                                    "1": "4891"
                                },
                                {
                                    "0": "Adventure Works",
                                    "1": "1125"
                                },
                                {
                                    "0": "Proseware, Inc.",
                                    "1": "1639"
                                },
                                {
                                    "0": "Southridge Video",
                                    "1": "1540"
                                },
                                {
                                    "0": "Fabrikam, Inc.",
                                    "1": "1605"
                                },
                                {
                                    "0": "Northwind Traders",
                                    "1": "206"
                                },
                                {
                                    "0": "The Phone Company",
                                    "1": "1314"
                                },
                                {
                                    "0": "Wide World Importers",
                                    "1": "990"
                                },
                                {
                                    "0": "Litware, Inc.",
                                    "1": "348"
                                },
                                {
                                    "0": "A. Datum Corporation",
                                    "1": "1342"
                                }
                            ]
                        },
                        "text/html": [
                            "<table>",
                            "<tr><th>Fabricante</th><th>Total_vendas</th></tr>",
                            "<tr><td>Contoso, Ltd</td><td>4891</td></tr>",
                            "<tr><td>Adventure Works</td><td>1125</td></tr>",
                            "<tr><td>Proseware, Inc.</td><td>1639</td></tr>",
                            "<tr><td>Southridge Video</td><td>1540</td></tr>",
                            "<tr><td>Fabrikam, Inc.</td><td>1605</td></tr>",
                            "<tr><td>Northwind Traders</td><td>206</td></tr>",
                            "<tr><td>The Phone Company</td><td>1314</td></tr>",
                            "<tr><td>Wide World Importers</td><td>990</td></tr>",
                            "<tr><td>Litware, Inc.</td><td>348</td></tr>",
                            "<tr><td>A. Datum Corporation</td><td>1342</td></tr>",
                            "</table>"
                        ]
                    }
                }
            ],
            "execution_count": 90
        }
    ]
}